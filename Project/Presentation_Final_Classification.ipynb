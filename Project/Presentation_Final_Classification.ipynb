{
 "cells": [
  {
   "cell_type": "markdown",
   "metadata": {
    "slideshow": {
     "slide_type": "slide"
    }
   },
   "source": [
    "# BMME890 - Fall 2019\n",
    "\n",
    "## Wine Quality Project\n",
    "\n",
    "Group: Nhan Pham, Khoi Huynh, Frank Wang, and Jiayi Xu"
   ]
  },
  {
   "cell_type": "markdown",
   "metadata": {
    "slideshow": {
     "slide_type": "slide"
    }
   },
   "source": [
    "## Problem Overview\n",
    "\n",
    "- Two datasets of red and white wine.\n",
    "- Predict the quality of the red and white wine (score from 0 to 10)"
   ]
  },
  {
   "cell_type": "markdown",
   "metadata": {
    "slideshow": {
     "slide_type": "slide"
    }
   },
   "source": [
    "## Dataset\n",
    "\n",
    "- From UCI repository: https://archive.ics.uci.edu/ml/datasets/Wine+Quality\n",
    "- Size: 4898 samples, 12 features\n",
    "- Features: \n",
    "    - `fixed acidity`\n",
    "    - `volatile acidity`\n",
    "    - `citric acid`\n",
    "    - `residual sugar`\n",
    "    - `chlorides`\n",
    "    - `free sulfur dioxide`\n",
    "    - `total sulfur dioxide`\n",
    "    - `density`\n",
    "    - `pH`\n",
    "    - `sulphates`\n",
    "    - `alcohol`"
   ]
  },
  {
   "cell_type": "markdown",
   "metadata": {
    "slideshow": {
     "slide_type": "slide"
    }
   },
   "source": [
    "## Approach\n",
    "\n",
    "The problem can be viewed in 2 ways:\n",
    "- Classification\n",
    "- Regression"
   ]
  },
  {
   "cell_type": "markdown",
   "metadata": {
    "slideshow": {
     "slide_type": "slide"
    }
   },
   "source": [
    "### Classification\n",
    "\n",
    "- Multilabel classification problem\n",
    "- Labels: $3 - 9$\n",
    "- Methods: \n",
    "    - Random Forest (RF)\n",
    "    - SVM\n",
    "    - PCA + RF\n",
    "    - Feature selection + RF"
   ]
  },
  {
   "cell_type": "markdown",
   "metadata": {
    "slideshow": {
     "slide_type": "slide"
    }
   },
   "source": [
    "### Regression\n",
    "\n",
    "- Perform usual regression techniques\n",
    "- Round the output to its nearest integer\n",
    "- Methods: \n",
    "    - Linear Regression\n",
    "    - Ridge Regression\n",
    "    - LASSO\n",
    "    - Elastic Net\n",
    "    - Gradient Boosting\n",
    "    - Random Forest\n",
    "    - \"Average\" Model"
   ]
  },
  {
   "cell_type": "code",
   "execution_count": 1,
   "metadata": {
    "slideshow": {
     "slide_type": "slide"
    }
   },
   "outputs": [],
   "source": [
    "import numpy as np\n",
    "import pandas as pd\n",
    "import matplotlib \n",
    "import seaborn as sns\n",
    "from matplotlib import pyplot as plt"
   ]
  },
  {
   "cell_type": "code",
   "execution_count": 2,
   "metadata": {
    "scrolled": true
   },
   "outputs": [
    {
     "data": {
      "text/html": [
       "<div>\n",
       "<style scoped>\n",
       "    .dataframe tbody tr th:only-of-type {\n",
       "        vertical-align: middle;\n",
       "    }\n",
       "\n",
       "    .dataframe tbody tr th {\n",
       "        vertical-align: top;\n",
       "    }\n",
       "\n",
       "    .dataframe thead th {\n",
       "        text-align: right;\n",
       "    }\n",
       "</style>\n",
       "<table border=\"1\" class=\"dataframe\">\n",
       "  <thead>\n",
       "    <tr style=\"text-align: right;\">\n",
       "      <th></th>\n",
       "      <th>fixed acidity</th>\n",
       "      <th>volatile acidity</th>\n",
       "      <th>citric acid</th>\n",
       "      <th>residual sugar</th>\n",
       "      <th>chlorides</th>\n",
       "      <th>free sulfur dioxide</th>\n",
       "      <th>total sulfur dioxide</th>\n",
       "      <th>density</th>\n",
       "      <th>pH</th>\n",
       "      <th>sulphates</th>\n",
       "      <th>alcohol</th>\n",
       "      <th>quality</th>\n",
       "      <th>type</th>\n",
       "    </tr>\n",
       "  </thead>\n",
       "  <tbody>\n",
       "    <tr>\n",
       "      <th>0</th>\n",
       "      <td>7.0</td>\n",
       "      <td>0.27</td>\n",
       "      <td>0.36</td>\n",
       "      <td>20.7</td>\n",
       "      <td>0.045</td>\n",
       "      <td>45.0</td>\n",
       "      <td>170.0</td>\n",
       "      <td>1.0010</td>\n",
       "      <td>3.00</td>\n",
       "      <td>0.45</td>\n",
       "      <td>8.8</td>\n",
       "      <td>6</td>\n",
       "      <td>white</td>\n",
       "    </tr>\n",
       "    <tr>\n",
       "      <th>1</th>\n",
       "      <td>6.3</td>\n",
       "      <td>0.30</td>\n",
       "      <td>0.34</td>\n",
       "      <td>1.6</td>\n",
       "      <td>0.049</td>\n",
       "      <td>14.0</td>\n",
       "      <td>132.0</td>\n",
       "      <td>0.9940</td>\n",
       "      <td>3.30</td>\n",
       "      <td>0.49</td>\n",
       "      <td>9.5</td>\n",
       "      <td>6</td>\n",
       "      <td>white</td>\n",
       "    </tr>\n",
       "    <tr>\n",
       "      <th>2</th>\n",
       "      <td>8.1</td>\n",
       "      <td>0.28</td>\n",
       "      <td>0.40</td>\n",
       "      <td>6.9</td>\n",
       "      <td>0.050</td>\n",
       "      <td>30.0</td>\n",
       "      <td>97.0</td>\n",
       "      <td>0.9951</td>\n",
       "      <td>3.26</td>\n",
       "      <td>0.44</td>\n",
       "      <td>10.1</td>\n",
       "      <td>6</td>\n",
       "      <td>white</td>\n",
       "    </tr>\n",
       "    <tr>\n",
       "      <th>3</th>\n",
       "      <td>7.2</td>\n",
       "      <td>0.23</td>\n",
       "      <td>0.32</td>\n",
       "      <td>8.5</td>\n",
       "      <td>0.058</td>\n",
       "      <td>47.0</td>\n",
       "      <td>186.0</td>\n",
       "      <td>0.9956</td>\n",
       "      <td>3.19</td>\n",
       "      <td>0.40</td>\n",
       "      <td>9.9</td>\n",
       "      <td>6</td>\n",
       "      <td>white</td>\n",
       "    </tr>\n",
       "    <tr>\n",
       "      <th>4</th>\n",
       "      <td>7.2</td>\n",
       "      <td>0.23</td>\n",
       "      <td>0.32</td>\n",
       "      <td>8.5</td>\n",
       "      <td>0.058</td>\n",
       "      <td>47.0</td>\n",
       "      <td>186.0</td>\n",
       "      <td>0.9956</td>\n",
       "      <td>3.19</td>\n",
       "      <td>0.40</td>\n",
       "      <td>9.9</td>\n",
       "      <td>6</td>\n",
       "      <td>white</td>\n",
       "    </tr>\n",
       "    <tr>\n",
       "      <th>5</th>\n",
       "      <td>8.1</td>\n",
       "      <td>0.28</td>\n",
       "      <td>0.40</td>\n",
       "      <td>6.9</td>\n",
       "      <td>0.050</td>\n",
       "      <td>30.0</td>\n",
       "      <td>97.0</td>\n",
       "      <td>0.9951</td>\n",
       "      <td>3.26</td>\n",
       "      <td>0.44</td>\n",
       "      <td>10.1</td>\n",
       "      <td>6</td>\n",
       "      <td>white</td>\n",
       "    </tr>\n",
       "    <tr>\n",
       "      <th>6</th>\n",
       "      <td>6.2</td>\n",
       "      <td>0.32</td>\n",
       "      <td>0.16</td>\n",
       "      <td>7.0</td>\n",
       "      <td>0.045</td>\n",
       "      <td>30.0</td>\n",
       "      <td>136.0</td>\n",
       "      <td>0.9949</td>\n",
       "      <td>3.18</td>\n",
       "      <td>0.47</td>\n",
       "      <td>9.6</td>\n",
       "      <td>6</td>\n",
       "      <td>white</td>\n",
       "    </tr>\n",
       "    <tr>\n",
       "      <th>7</th>\n",
       "      <td>7.0</td>\n",
       "      <td>0.27</td>\n",
       "      <td>0.36</td>\n",
       "      <td>20.7</td>\n",
       "      <td>0.045</td>\n",
       "      <td>45.0</td>\n",
       "      <td>170.0</td>\n",
       "      <td>1.0010</td>\n",
       "      <td>3.00</td>\n",
       "      <td>0.45</td>\n",
       "      <td>8.8</td>\n",
       "      <td>6</td>\n",
       "      <td>white</td>\n",
       "    </tr>\n",
       "    <tr>\n",
       "      <th>8</th>\n",
       "      <td>6.3</td>\n",
       "      <td>0.30</td>\n",
       "      <td>0.34</td>\n",
       "      <td>1.6</td>\n",
       "      <td>0.049</td>\n",
       "      <td>14.0</td>\n",
       "      <td>132.0</td>\n",
       "      <td>0.9940</td>\n",
       "      <td>3.30</td>\n",
       "      <td>0.49</td>\n",
       "      <td>9.5</td>\n",
       "      <td>6</td>\n",
       "      <td>white</td>\n",
       "    </tr>\n",
       "    <tr>\n",
       "      <th>9</th>\n",
       "      <td>8.1</td>\n",
       "      <td>0.22</td>\n",
       "      <td>0.43</td>\n",
       "      <td>1.5</td>\n",
       "      <td>0.044</td>\n",
       "      <td>28.0</td>\n",
       "      <td>129.0</td>\n",
       "      <td>0.9938</td>\n",
       "      <td>3.22</td>\n",
       "      <td>0.45</td>\n",
       "      <td>11.0</td>\n",
       "      <td>6</td>\n",
       "      <td>white</td>\n",
       "    </tr>\n",
       "  </tbody>\n",
       "</table>\n",
       "</div>"
      ],
      "text/plain": [
       "   fixed acidity  volatile acidity  citric acid  residual sugar  chlorides  \\\n",
       "0            7.0              0.27         0.36            20.7      0.045   \n",
       "1            6.3              0.30         0.34             1.6      0.049   \n",
       "2            8.1              0.28         0.40             6.9      0.050   \n",
       "3            7.2              0.23         0.32             8.5      0.058   \n",
       "4            7.2              0.23         0.32             8.5      0.058   \n",
       "5            8.1              0.28         0.40             6.9      0.050   \n",
       "6            6.2              0.32         0.16             7.0      0.045   \n",
       "7            7.0              0.27         0.36            20.7      0.045   \n",
       "8            6.3              0.30         0.34             1.6      0.049   \n",
       "9            8.1              0.22         0.43             1.5      0.044   \n",
       "\n",
       "   free sulfur dioxide  total sulfur dioxide  density    pH  sulphates  \\\n",
       "0                 45.0                 170.0   1.0010  3.00       0.45   \n",
       "1                 14.0                 132.0   0.9940  3.30       0.49   \n",
       "2                 30.0                  97.0   0.9951  3.26       0.44   \n",
       "3                 47.0                 186.0   0.9956  3.19       0.40   \n",
       "4                 47.0                 186.0   0.9956  3.19       0.40   \n",
       "5                 30.0                  97.0   0.9951  3.26       0.44   \n",
       "6                 30.0                 136.0   0.9949  3.18       0.47   \n",
       "7                 45.0                 170.0   1.0010  3.00       0.45   \n",
       "8                 14.0                 132.0   0.9940  3.30       0.49   \n",
       "9                 28.0                 129.0   0.9938  3.22       0.45   \n",
       "\n",
       "   alcohol  quality   type  \n",
       "0      8.8        6  white  \n",
       "1      9.5        6  white  \n",
       "2     10.1        6  white  \n",
       "3      9.9        6  white  \n",
       "4      9.9        6  white  \n",
       "5     10.1        6  white  \n",
       "6      9.6        6  white  \n",
       "7      8.8        6  white  \n",
       "8      9.5        6  white  \n",
       "9     11.0        6  white  "
      ]
     },
     "execution_count": 2,
     "metadata": {},
     "output_type": "execute_result"
    }
   ],
   "source": [
    "# read red and white dataset and merge them\n",
    "white_data=pd.read_csv('winequality-white.csv')\n",
    "red_data=pd.read_csv('winequality-red.csv')\n",
    "\n",
    "white_data_added=white_data\n",
    "white_data_added['type']='white'\n",
    "\n",
    "red_data_added=red_data\n",
    "red_data_added['type']='red'\n",
    "\n",
    "frames=[white_data_added, red_data_added]\n",
    "dataset=pd.concat(frames, ignore_index=True)\n",
    "\n",
    "dataset.head(10)"
   ]
  },
  {
   "cell_type": "code",
   "execution_count": 3,
   "metadata": {},
   "outputs": [
    {
     "data": {
      "image/png": "[encoded data removed]",
      "text/plain": [
       "<Figure size 432x288 with 1 Axes>"
      ]
     },
     "metadata": {
      "needs_background": "light"
     },
     "output_type": "display_data"
    }
   ],
   "source": [
    "f,ax = plt.subplots(1,1)\n",
    "ax.hist(dataset[dataset.type=='white'].quality, bins = 20)\n",
    "ax.hist(dataset[dataset.type=='red'].quality, bins = 20)\n",
    "ax.legend(['white','red'])\n",
    "ax.set_title('Wine Quality')\n",
    "plt.show()"
   ]
  },
  {
   "cell_type": "code",
   "execution_count": 4,
   "metadata": {
    "slideshow": {
     "slide_type": "slide"
    }
   },
   "outputs": [
    {
     "data": {
      "image/png": "[encoded data removed]",
      "text/plain": [
       "<Figure size 1440x1080 with 12 Axes>"
      ]
     },
     "metadata": {
      "needs_background": "light"
     },
     "output_type": "display_data"
    }
   ],
   "source": [
    "# histogram\n",
    "dataset.hist(bins=50, figsize=(20,15))\n",
    "plt.show()"
   ]
  },
  {
   "cell_type": "code",
   "execution_count": 5,
   "metadata": {
    "scrolled": true,
    "slideshow": {
     "slide_type": "slide"
    }
   },
   "outputs": [
    {
     "data": {
      "text/html": [
       "<div>\n",
       "<style scoped>\n",
       "    .dataframe tbody tr th:only-of-type {\n",
       "        vertical-align: middle;\n",
       "    }\n",
       "\n",
       "    .dataframe tbody tr th {\n",
       "        vertical-align: top;\n",
       "    }\n",
       "\n",
       "    .dataframe thead th {\n",
       "        text-align: right;\n",
       "    }\n",
       "</style>\n",
       "<table border=\"1\" class=\"dataframe\">\n",
       "  <thead>\n",
       "    <tr style=\"text-align: right;\">\n",
       "      <th></th>\n",
       "      <th>fixed acidity</th>\n",
       "      <th>volatile acidity</th>\n",
       "      <th>citric acid</th>\n",
       "      <th>residual sugar</th>\n",
       "      <th>chlorides</th>\n",
       "      <th>free sulfur dioxide</th>\n",
       "      <th>total sulfur dioxide</th>\n",
       "      <th>density</th>\n",
       "      <th>pH</th>\n",
       "      <th>sulphates</th>\n",
       "      <th>alcohol</th>\n",
       "      <th>quality</th>\n",
       "    </tr>\n",
       "  </thead>\n",
       "  <tbody>\n",
       "    <tr>\n",
       "      <th>count</th>\n",
       "      <td>6497.000000</td>\n",
       "      <td>6497.000000</td>\n",
       "      <td>6497.000000</td>\n",
       "      <td>6497.000000</td>\n",
       "      <td>6497.000000</td>\n",
       "      <td>6497.000000</td>\n",
       "      <td>6497.000000</td>\n",
       "      <td>6497.000000</td>\n",
       "      <td>6497.000000</td>\n",
       "      <td>6497.000000</td>\n",
       "      <td>6497.000000</td>\n",
       "      <td>6497.000000</td>\n",
       "    </tr>\n",
       "    <tr>\n",
       "      <th>mean</th>\n",
       "      <td>7.215307</td>\n",
       "      <td>0.339666</td>\n",
       "      <td>0.318633</td>\n",
       "      <td>5.443235</td>\n",
       "      <td>0.056034</td>\n",
       "      <td>30.525319</td>\n",
       "      <td>115.744574</td>\n",
       "      <td>0.994697</td>\n",
       "      <td>3.218501</td>\n",
       "      <td>0.531268</td>\n",
       "      <td>10.491801</td>\n",
       "      <td>5.818378</td>\n",
       "    </tr>\n",
       "    <tr>\n",
       "      <th>std</th>\n",
       "      <td>1.296434</td>\n",
       "      <td>0.164636</td>\n",
       "      <td>0.145318</td>\n",
       "      <td>4.757804</td>\n",
       "      <td>0.035034</td>\n",
       "      <td>17.749400</td>\n",
       "      <td>56.521855</td>\n",
       "      <td>0.002999</td>\n",
       "      <td>0.160787</td>\n",
       "      <td>0.148806</td>\n",
       "      <td>1.192712</td>\n",
       "      <td>0.873255</td>\n",
       "    </tr>\n",
       "    <tr>\n",
       "      <th>min</th>\n",
       "      <td>3.800000</td>\n",
       "      <td>0.080000</td>\n",
       "      <td>0.000000</td>\n",
       "      <td>0.600000</td>\n",
       "      <td>0.009000</td>\n",
       "      <td>1.000000</td>\n",
       "      <td>6.000000</td>\n",
       "      <td>0.987110</td>\n",
       "      <td>2.720000</td>\n",
       "      <td>0.220000</td>\n",
       "      <td>8.000000</td>\n",
       "      <td>3.000000</td>\n",
       "    </tr>\n",
       "    <tr>\n",
       "      <th>25%</th>\n",
       "      <td>6.400000</td>\n",
       "      <td>0.230000</td>\n",
       "      <td>0.250000</td>\n",
       "      <td>1.800000</td>\n",
       "      <td>0.038000</td>\n",
       "      <td>17.000000</td>\n",
       "      <td>77.000000</td>\n",
       "      <td>0.992340</td>\n",
       "      <td>3.110000</td>\n",
       "      <td>0.430000</td>\n",
       "      <td>9.500000</td>\n",
       "      <td>5.000000</td>\n",
       "    </tr>\n",
       "    <tr>\n",
       "      <th>50%</th>\n",
       "      <td>7.000000</td>\n",
       "      <td>0.290000</td>\n",
       "      <td>0.310000</td>\n",
       "      <td>3.000000</td>\n",
       "      <td>0.047000</td>\n",
       "      <td>29.000000</td>\n",
       "      <td>118.000000</td>\n",
       "      <td>0.994890</td>\n",
       "      <td>3.210000</td>\n",
       "      <td>0.510000</td>\n",
       "      <td>10.300000</td>\n",
       "      <td>6.000000</td>\n",
       "    </tr>\n",
       "    <tr>\n",
       "      <th>75%</th>\n",
       "      <td>7.700000</td>\n",
       "      <td>0.400000</td>\n",
       "      <td>0.390000</td>\n",
       "      <td>8.100000</td>\n",
       "      <td>0.065000</td>\n",
       "      <td>41.000000</td>\n",
       "      <td>156.000000</td>\n",
       "      <td>0.996990</td>\n",
       "      <td>3.320000</td>\n",
       "      <td>0.600000</td>\n",
       "      <td>11.300000</td>\n",
       "      <td>6.000000</td>\n",
       "    </tr>\n",
       "    <tr>\n",
       "      <th>max</th>\n",
       "      <td>15.900000</td>\n",
       "      <td>1.580000</td>\n",
       "      <td>1.660000</td>\n",
       "      <td>65.800000</td>\n",
       "      <td>0.611000</td>\n",
       "      <td>289.000000</td>\n",
       "      <td>440.000000</td>\n",
       "      <td>1.038980</td>\n",
       "      <td>4.010000</td>\n",
       "      <td>2.000000</td>\n",
       "      <td>14.900000</td>\n",
       "      <td>9.000000</td>\n",
       "    </tr>\n",
       "  </tbody>\n",
       "</table>\n",
       "</div>"
      ],
      "text/plain": [
       "       fixed acidity  volatile acidity  citric acid  residual sugar  \\\n",
       "count    6497.000000       6497.000000  6497.000000     6497.000000   \n",
       "mean        7.215307          0.339666     0.318633        5.443235   \n",
       "std         1.296434          0.164636     0.145318        4.757804   \n",
       "min         3.800000          0.080000     0.000000        0.600000   \n",
       "25%         6.400000          0.230000     0.250000        1.800000   \n",
       "50%         7.000000          0.290000     0.310000        3.000000   \n",
       "75%         7.700000          0.400000     0.390000        8.100000   \n",
       "max        15.900000          1.580000     1.660000       65.800000   \n",
       "\n",
       "         chlorides  free sulfur dioxide  total sulfur dioxide      density  \\\n",
       "count  6497.000000          6497.000000           6497.000000  6497.000000   \n",
       "mean      0.056034            30.525319            115.744574     0.994697   \n",
       "std       0.035034            17.749400             56.521855     0.002999   \n",
       "min       0.009000             1.000000              6.000000     0.987110   \n",
       "25%       0.038000            17.000000             77.000000     0.992340   \n",
       "50%       0.047000            29.000000            118.000000     0.994890   \n",
       "75%       0.065000            41.000000            156.000000     0.996990   \n",
       "max       0.611000           289.000000            440.000000     1.038980   \n",
       "\n",
       "                pH    sulphates      alcohol      quality  \n",
       "count  6497.000000  6497.000000  6497.000000  6497.000000  \n",
       "mean      3.218501     0.531268    10.491801     5.818378  \n",
       "std       0.160787     0.148806     1.192712     0.873255  \n",
       "min       2.720000     0.220000     8.000000     3.000000  \n",
       "25%       3.110000     0.430000     9.500000     5.000000  \n",
       "50%       3.210000     0.510000    10.300000     6.000000  \n",
       "75%       3.320000     0.600000    11.300000     6.000000  \n",
       "max       4.010000     2.000000    14.900000     9.000000  "
      ]
     },
     "execution_count": 5,
     "metadata": {},
     "output_type": "execute_result"
    }
   ],
   "source": [
    "dataset.describe()"
   ]
  },
  {
   "cell_type": "code",
   "execution_count": 6,
   "metadata": {},
   "outputs": [
    {
     "data": {
      "text/plain": [
       "fixed acidity           0\n",
       "volatile acidity        0\n",
       "citric acid             0\n",
       "residual sugar          0\n",
       "chlorides               0\n",
       "free sulfur dioxide     0\n",
       "total sulfur dioxide    0\n",
       "density                 0\n",
       "pH                      0\n",
       "sulphates               0\n",
       "alcohol                 0\n",
       "quality                 0\n",
       "type                    0\n",
       "dtype: int64"
      ]
     },
     "execution_count": 6,
     "metadata": {},
     "output_type": "execute_result"
    }
   ],
   "source": [
    "dataset.isnull().sum()"
   ]
  },
  {
   "cell_type": "markdown",
   "metadata": {},
   "source": [
    "## Note:\n",
    "\n",
    "- The data look clean, no capped value, no missing values.\n",
    "- Samples are in range $[3,9]$."
   ]
  },
  {
   "cell_type": "code",
   "execution_count": 7,
   "metadata": {
    "scrolled": false,
    "slideshow": {
     "slide_type": "slide"
    }
   },
   "outputs": [
    {
     "data": {
      "image/png": "[encoded data removed]",
      "text/plain": [
       "<Figure size 792x1080 with 2 Axes>"
      ]
     },
     "metadata": {
      "needs_background": "light"
     },
     "output_type": "display_data"
    }
   ],
   "source": [
    "f, ax = plt.subplots(figsize=(11, 15)) \n",
    "corr_matrix = dataset.corr()\n",
    "mask = np.zeros_like(corr_matrix, dtype=np.bool)\n",
    "mask[np.triu_indices_from(mask)]= True\n",
    "heatmap = sns.heatmap(corr_matrix, mask = mask, square = True, linewidths = .5, cmap = 'coolwarm',\n",
    "                      cbar_kws = {'shrink': .4, \n",
    "                                'ticks' : [-1, -.5, 0, 0.5, 1]},\n",
    "                      vmin = -1, \n",
    "                      vmax = 1,\n",
    "                      annot = True,\n",
    "                      annot_kws = {\"size\": 12})\n",
    "#add the column names as labels\n",
    "ax.set_yticklabels(corr_matrix.columns, rotation = 0)\n",
    "ax.set_xticklabels(corr_matrix.columns)\n",
    "sns.set_style({'xtick.bottom': True}, {'ytick.left': True})"
   ]
  },
  {
   "cell_type": "markdown",
   "metadata": {
    "slideshow": {
     "slide_type": "slide"
    }
   },
   "source": [
    "## Imbalanced label classes"
   ]
  },
  {
   "cell_type": "code",
   "execution_count": 8,
   "metadata": {
    "slideshow": {
     "slide_type": "-"
    }
   },
   "outputs": [
    {
     "data": {
      "text/plain": [
       "6    2836\n",
       "5    2138\n",
       "7    1079\n",
       "4     216\n",
       "8     193\n",
       "3      30\n",
       "9       5\n",
       "Name: quality, dtype: int64"
      ]
     },
     "execution_count": 8,
     "metadata": {},
     "output_type": "execute_result"
    }
   ],
   "source": [
    "dataset['quality'].value_counts()"
   ]
  },
  {
   "cell_type": "markdown",
   "metadata": {},
   "source": [
    "## Train-test split"
   ]
  },
  {
   "cell_type": "code",
   "execution_count": 9,
   "metadata": {},
   "outputs": [],
   "source": [
    "# split into features and labels\n",
    "dataset_y=dataset['quality']\n",
    "dataset_x=dataset\n",
    "dataset_x.drop(['quality'],axis=1,inplace=True)"
   ]
  },
  {
   "cell_type": "code",
   "execution_count": 10,
   "metadata": {},
   "outputs": [
    {
     "data": {
      "text/html": [
       "<div>\n",
       "<style scoped>\n",
       "    .dataframe tbody tr th:only-of-type {\n",
       "        vertical-align: middle;\n",
       "    }\n",
       "\n",
       "    .dataframe tbody tr th {\n",
       "        vertical-align: top;\n",
       "    }\n",
       "\n",
       "    .dataframe thead th {\n",
       "        text-align: right;\n",
       "    }\n",
       "</style>\n",
       "<table border=\"1\" class=\"dataframe\">\n",
       "  <thead>\n",
       "    <tr style=\"text-align: right;\">\n",
       "      <th></th>\n",
       "      <th>fixed acidity</th>\n",
       "      <th>volatile acidity</th>\n",
       "      <th>citric acid</th>\n",
       "      <th>residual sugar</th>\n",
       "      <th>chlorides</th>\n",
       "      <th>free sulfur dioxide</th>\n",
       "      <th>total sulfur dioxide</th>\n",
       "      <th>density</th>\n",
       "      <th>pH</th>\n",
       "      <th>sulphates</th>\n",
       "      <th>alcohol</th>\n",
       "      <th>type_red</th>\n",
       "      <th>type_white</th>\n",
       "    </tr>\n",
       "  </thead>\n",
       "  <tbody>\n",
       "    <tr>\n",
       "      <th>0</th>\n",
       "      <td>7.0</td>\n",
       "      <td>0.27</td>\n",
       "      <td>0.36</td>\n",
       "      <td>20.7</td>\n",
       "      <td>0.045</td>\n",
       "      <td>45.0</td>\n",
       "      <td>170.0</td>\n",
       "      <td>1.0010</td>\n",
       "      <td>3.00</td>\n",
       "      <td>0.45</td>\n",
       "      <td>8.8</td>\n",
       "      <td>0</td>\n",
       "      <td>1</td>\n",
       "    </tr>\n",
       "    <tr>\n",
       "      <th>1</th>\n",
       "      <td>6.3</td>\n",
       "      <td>0.30</td>\n",
       "      <td>0.34</td>\n",
       "      <td>1.6</td>\n",
       "      <td>0.049</td>\n",
       "      <td>14.0</td>\n",
       "      <td>132.0</td>\n",
       "      <td>0.9940</td>\n",
       "      <td>3.30</td>\n",
       "      <td>0.49</td>\n",
       "      <td>9.5</td>\n",
       "      <td>0</td>\n",
       "      <td>1</td>\n",
       "    </tr>\n",
       "    <tr>\n",
       "      <th>2</th>\n",
       "      <td>8.1</td>\n",
       "      <td>0.28</td>\n",
       "      <td>0.40</td>\n",
       "      <td>6.9</td>\n",
       "      <td>0.050</td>\n",
       "      <td>30.0</td>\n",
       "      <td>97.0</td>\n",
       "      <td>0.9951</td>\n",
       "      <td>3.26</td>\n",
       "      <td>0.44</td>\n",
       "      <td>10.1</td>\n",
       "      <td>0</td>\n",
       "      <td>1</td>\n",
       "    </tr>\n",
       "    <tr>\n",
       "      <th>3</th>\n",
       "      <td>7.2</td>\n",
       "      <td>0.23</td>\n",
       "      <td>0.32</td>\n",
       "      <td>8.5</td>\n",
       "      <td>0.058</td>\n",
       "      <td>47.0</td>\n",
       "      <td>186.0</td>\n",
       "      <td>0.9956</td>\n",
       "      <td>3.19</td>\n",
       "      <td>0.40</td>\n",
       "      <td>9.9</td>\n",
       "      <td>0</td>\n",
       "      <td>1</td>\n",
       "    </tr>\n",
       "    <tr>\n",
       "      <th>4</th>\n",
       "      <td>7.2</td>\n",
       "      <td>0.23</td>\n",
       "      <td>0.32</td>\n",
       "      <td>8.5</td>\n",
       "      <td>0.058</td>\n",
       "      <td>47.0</td>\n",
       "      <td>186.0</td>\n",
       "      <td>0.9956</td>\n",
       "      <td>3.19</td>\n",
       "      <td>0.40</td>\n",
       "      <td>9.9</td>\n",
       "      <td>0</td>\n",
       "      <td>1</td>\n",
       "    </tr>\n",
       "  </tbody>\n",
       "</table>\n",
       "</div>"
      ],
      "text/plain": [
       "   fixed acidity  volatile acidity  citric acid  residual sugar  chlorides  \\\n",
       "0            7.0              0.27         0.36            20.7      0.045   \n",
       "1            6.3              0.30         0.34             1.6      0.049   \n",
       "2            8.1              0.28         0.40             6.9      0.050   \n",
       "3            7.2              0.23         0.32             8.5      0.058   \n",
       "4            7.2              0.23         0.32             8.5      0.058   \n",
       "\n",
       "   free sulfur dioxide  total sulfur dioxide  density    pH  sulphates  \\\n",
       "0                 45.0                 170.0   1.0010  3.00       0.45   \n",
       "1                 14.0                 132.0   0.9940  3.30       0.49   \n",
       "2                 30.0                  97.0   0.9951  3.26       0.44   \n",
       "3                 47.0                 186.0   0.9956  3.19       0.40   \n",
       "4                 47.0                 186.0   0.9956  3.19       0.40   \n",
       "\n",
       "   alcohol  type_red  type_white  \n",
       "0      8.8         0           1  \n",
       "1      9.5         0           1  \n",
       "2     10.1         0           1  \n",
       "3      9.9         0           1  \n",
       "4      9.9         0           1  "
      ]
     },
     "execution_count": 10,
     "metadata": {},
     "output_type": "execute_result"
    }
   ],
   "source": [
    "dataset_x_withonehot = pd.get_dummies(dataset_x)\n",
    "dataset_x_withonehot.head()"
   ]
  },
  {
   "cell_type": "code",
   "execution_count": 11,
   "metadata": {},
   "outputs": [],
   "source": [
    "from sklearn.model_selection import train_test_split\n",
    "X_train, X_test, y_train, y_test = train_test_split(dataset_x_withonehot, dataset_y, test_size=0.2, random_state=42)"
   ]
  },
  {
   "cell_type": "code",
   "execution_count": 12,
   "metadata": {
    "slideshow": {
     "slide_type": "skip"
    }
   },
   "outputs": [],
   "source": [
    "from sklearn.linear_model import ElasticNet, Lasso,  BayesianRidge, LassoLarsIC\n",
    "from sklearn.ensemble import RandomForestRegressor,  GradientBoostingRegressor\n",
    "from sklearn.kernel_ridge import KernelRidge\n",
    "from sklearn.pipeline import make_pipeline\n",
    "from sklearn.preprocessing import RobustScaler\n",
    "from sklearn.base import BaseEstimator, TransformerMixin, RegressorMixin, clone\n",
    "from sklearn.model_selection import KFold, cross_val_score, train_test_split\n",
    "from sklearn.metrics import mean_squared_error\n",
    "from sklearn.metrics import confusion_matrix,precision_score, recall_score, f1_score,accuracy_score\n",
    "from sklearn.model_selection import GridSearchCV\n",
    "from sklearn.pipeline import make_pipeline\n",
    "from sklearn.preprocessing import StandardScaler\n",
    "from sklearn.ensemble import RandomForestClassifier\n",
    "from sklearn.decomposition import PCA\n",
    "from sklearn.feature_selection import SelectFromModel\n",
    "from sklearn.svm import LinearSVC\n",
    "\n",
    "def rmsle(y, y_pred):\n",
    "    return np.sqrt(mean_squared_error(y_test, y_pred))\n",
    "\n",
    "def rmsle_cv(model, n_folds=5):\n",
    "    kf = KFold(n_folds, shuffle=True, random_state=42).get_n_splits(X_train)\n",
    "    rmse= np.sqrt(-cross_val_score(model, X_train, y_train, scoring=\"neg_mean_squared_error\", cv = kf,error_score=np.nan))\n",
    "    return rmse\n",
    "\n",
    "def acc_cv(model, n_folds=5):\n",
    "    kf = KFold(n_folds, shuffle=True, random_state=42).get_n_splits(X_train)\n",
    "    acc = cross_val_score(model, X_train, y_train, scoring=\"accuracy\", cv = kf,error_score=np.nan)\n",
    "    return acc\n",
    "\n",
    "def AccWithTol(model,tol,X,y, low=3, high=9):\n",
    "    y_pred=model.predict(X)\n",
    "    accuracy = (np.abs(y_pred - y) < tol )\n",
    "    np.mean(accuracy)\n",
    "    dict={'Label':y_test,'Pred':y_pred,'T/F':accuracy}\n",
    "    a=pd.DataFrame(dict)\n",
    "    val_cnt = a.Label.value_counts().sort_index()\n",
    "    val_cnt = val_cnt.to_numpy()\n",
    "    correct_cnt = []\n",
    "    acc = []\n",
    "    for i in range(low,high):\n",
    "        sub_class = a[a.Label==i]\n",
    "        correct_cnt.append(np.sum(sub_class['T/F']))\n",
    "        acc.append(correct_cnt[-1] / val_cnt[i-3])\n",
    "    new_dict = {'label': np.arange(3,9),'total_cnt': val_cnt,'correct_cnt': correct_cnt, 'acc': acc}\n",
    "    new_df = pd.DataFrame(new_dict)\n",
    "    return new_df\n",
    "\n",
    "def PrintResults(model,X_train,y_train,X_test,y_test):\n",
    "    y_pred = model.predict(X_test)\n",
    "    train_accuracies = accuracy_score(y_train,model.predict(X_train))\n",
    "    print('Train set accuracy',train_accuracies)\n",
    "    cm_train = confusion_matrix(y_train, model.predict(X_train))\n",
    "    print('******Train set confusion matrix************')\n",
    "    print(cm_train)\n",
    "    # Making the Confusion Matrix\n",
    "    test_accuracies = accuracy_score(y_test,y_pred)\n",
    "    print('\\n\\nTest set accuracy',test_accuracies)\n",
    "    cm_test = confusion_matrix(y_test, y_pred)\n",
    "    print('******Test set confusion matrix************')\n",
    "    print(cm_test)\n",
    "    \n",
    "    top2acc, _ = TopkAcc(model, X_test, y_test,k=2)\n",
    "    print('\\nTop 2 Accuracy:', top2acc)\n",
    "\n",
    "def AccWithTol_Clf(model, tol, X, y, low = 3, high= 9, k=2, offset=3):\n",
    "    y_pred=model.predict(X)\n",
    "    \n",
    "    _, match_array = TopkAcc(model, X, y, k, offset)\n",
    "    \n",
    "    dict={'Label':y_test,'Pred':y_pred,'T/F':match_array}\n",
    "    \n",
    "    a=pd.DataFrame(dict)\n",
    "    val_cnt = a.Label.value_counts().sort_index()\n",
    "    val_cnt = val_cnt.to_numpy()\n",
    "    correct_cnt = []\n",
    "    acc = []\n",
    "    for i in range(low,high):\n",
    "        sub_class = a[a.Label==i]\n",
    "        correct_cnt.append(np.sum(sub_class['T/F']))\n",
    "        acc.append(correct_cnt[-1] / val_cnt[i-3])\n",
    "    new_dict = {'label': np.arange(3,9),'total_cnt': val_cnt,'correct_cnt': correct_cnt, 'acc': acc}\n",
    "    new_df = pd.DataFrame(new_dict)\n",
    "    return new_df\n",
    "\n",
    "    \n",
    "\n",
    "def TopkAcc(model, X, y, k=2, offset=3):\n",
    "    y_predict_proba=model.predict_proba(X)\n",
    "\n",
    "    max_k_preds = y_predict_proba.argsort(axis=1)[:, -k:][:, ::-1] + offset\n",
    "    match_array = np.logical_or.reduce(max_k_preds==y.to_numpy().reshape([-1,1]), axis=1) \n",
    "    topk_acc_score = match_array.sum() / match_array.shape[0]\n",
    "    \n",
    "    return topk_acc_score, match_array\n"
   ]
  },
  {
   "cell_type": "markdown",
   "metadata": {},
   "source": [
    "# 1. Classification"
   ]
  },
  {
   "cell_type": "markdown",
   "metadata": {},
   "source": [
    "## Naive Approach"
   ]
  },
  {
   "cell_type": "code",
   "execution_count": 13,
   "metadata": {},
   "outputs": [
    {
     "name": "stdout",
     "output_type": "stream",
     "text": [
      "\n",
      "Cross Validation accuracy: mean 0.6088 std (0.0133)\n",
      "\n"
     ]
    },
    {
     "data": {
      "text/html": [
       "<div>\n",
       "<style scoped>\n",
       "    .dataframe tbody tr th:only-of-type {\n",
       "        vertical-align: middle;\n",
       "    }\n",
       "\n",
       "    .dataframe tbody tr th {\n",
       "        vertical-align: top;\n",
       "    }\n",
       "\n",
       "    .dataframe thead th {\n",
       "        text-align: right;\n",
       "    }\n",
       "</style>\n",
       "<table border=\"1\" class=\"dataframe\">\n",
       "  <thead>\n",
       "    <tr style=\"text-align: right;\">\n",
       "      <th></th>\n",
       "      <th>label</th>\n",
       "      <th>total_cnt</th>\n",
       "      <th>correct_cnt</th>\n",
       "      <th>acc</th>\n",
       "    </tr>\n",
       "  </thead>\n",
       "  <tbody>\n",
       "    <tr>\n",
       "      <th>0</th>\n",
       "      <td>3</td>\n",
       "      <td>2</td>\n",
       "      <td>0</td>\n",
       "      <td>0.000000</td>\n",
       "    </tr>\n",
       "    <tr>\n",
       "      <th>1</th>\n",
       "      <td>4</td>\n",
       "      <td>46</td>\n",
       "      <td>10</td>\n",
       "      <td>0.217391</td>\n",
       "    </tr>\n",
       "    <tr>\n",
       "      <th>2</th>\n",
       "      <td>5</td>\n",
       "      <td>420</td>\n",
       "      <td>398</td>\n",
       "      <td>0.947619</td>\n",
       "    </tr>\n",
       "    <tr>\n",
       "      <th>3</th>\n",
       "      <td>6</td>\n",
       "      <td>579</td>\n",
       "      <td>574</td>\n",
       "      <td>0.991364</td>\n",
       "    </tr>\n",
       "    <tr>\n",
       "      <th>4</th>\n",
       "      <td>7</td>\n",
       "      <td>221</td>\n",
       "      <td>179</td>\n",
       "      <td>0.809955</td>\n",
       "    </tr>\n",
       "    <tr>\n",
       "      <th>5</th>\n",
       "      <td>8</td>\n",
       "      <td>32</td>\n",
       "      <td>8</td>\n",
       "      <td>0.250000</td>\n",
       "    </tr>\n",
       "  </tbody>\n",
       "</table>\n",
       "</div>"
      ],
      "text/plain": [
       "   label  total_cnt  correct_cnt       acc\n",
       "0      3          2            0  0.000000\n",
       "1      4         46           10  0.217391\n",
       "2      5        420          398  0.947619\n",
       "3      6        579          574  0.991364\n",
       "4      7        221          179  0.809955\n",
       "5      8         32            8  0.250000"
      ]
     },
     "execution_count": 13,
     "metadata": {},
     "output_type": "execute_result"
    }
   ],
   "source": [
    "RFC = make_pipeline(\n",
    "            StandardScaler(), \n",
    "            RandomForestClassifier(n_estimators = 10, criterion = 'entropy', max_depth=10,random_state = 0)\n",
    "            )\n",
    "\n",
    "score = acc_cv(RFC)\n",
    "print(\"\\nCross Validation accuracy: mean {:.4f} std ({:.4f})\\n\".format(score.mean(), score.std()))\n",
    "RFC.fit(X_train,y_train)\n",
    "RFC_acc = AccWithTol_Clf(RFC,1,X_test,y_test)\n",
    "RFC_acc"
   ]
  },
  {
   "cell_type": "code",
   "execution_count": 14,
   "metadata": {
    "scrolled": false
   },
   "outputs": [
    {
     "name": "stdout",
     "output_type": "stream",
     "text": [
      "Train set accuracy 0.8120069270733116\n",
      "******Train set confusion matrix************\n",
      "[[  21    0    2    5    0    0    0]\n",
      " [   0   69   68   33    0    0    0]\n",
      " [   0    0 1480  230    8    0    0]\n",
      " [   0    0  252 1957   48    0    0]\n",
      " [   0    0   12  247  598    1    0]\n",
      " [   0    0    1   36   31   93    0]\n",
      " [   0    0    0    1    2    0    2]]\n",
      "\n",
      "\n",
      "Test set accuracy 0.6284615384615385\n",
      "******Test set confusion matrix************\n",
      "[[  0   0   2   0   0   0]\n",
      " [  0   4  27  13   2   0]\n",
      " [  0   0 299 119   2   0]\n",
      " [  0   0 118 425  35   1]\n",
      " [  0   2  12 122  84   1]\n",
      " [  0   0   1  17   9   5]]\n",
      "\n",
      "Top 2 Accuracy: 0.8992307692307693\n"
     ]
    }
   ],
   "source": [
    "PrintResults(RFC,X_train,y_train,X_test,y_test)"
   ]
  },
  {
   "cell_type": "code",
   "execution_count": 39,
   "metadata": {},
   "outputs": [
    {
     "name": "stderr",
     "output_type": "stream",
     "text": [
      "/Users/mkhoi/anaconda3/lib/python3.6/site-packages/sklearn/model_selection/_split.py:657: Warning: The least populated class in y has only 5 members, which is too few. The minimum number of members in any class cannot be less than n_splits=10.\n",
      "  % (min_groups, self.n_splits)), Warning)\n"
     ]
    }
   ],
   "source": [
    "param_grid = [\n",
    "    {'randomforestclassifier__n_estimators': [5, 10, 15,20], \n",
    "     'randomforestclassifier__max_features': [1,3,5,10], \n",
    "     'randomforestclassifier__max_depth':[5,10,15],\n",
    "     'randomforestclassifier__min_samples_split':[2,5,10],\n",
    "     'randomforestclassifier__min_samples_leaf':[1,5,10]},\n",
    "    {'randomforestclassifier__bootstrap': [False], \n",
    "     'randomforestclassifier__n_estimators': [5, 10, 20], \n",
    "     'randomforestclassifier__max_features': [1,3,5,10],\n",
    "     'randomforestclassifier__max_depth':[5,10,15],\n",
    "     'randomforestclassifier__min_samples_split':[2,5,10],\n",
    "     'randomforestclassifier__min_samples_leaf':[1,5,10]}\n",
    "  ]\n",
    "\n",
    "grid_search = GridSearchCV(estimator = RFC,\n",
    "                           param_grid = param_grid,\n",
    "                           scoring = 'accuracy',\n",
    "                           cv = 5,\n",
    "                           n_jobs = -1)\n",
    "grid_search = grid_search.fit(X_train, y_train)\n",
    "print(grid_search.best_params_)"
   ]
  },
  {
   "cell_type": "code",
   "execution_count": 135,
   "metadata": {},
   "outputs": [
    {
     "data": {
      "text/html": [
       "<div>\n",
       "<style scoped>\n",
       "    .dataframe tbody tr th:only-of-type {\n",
       "        vertical-align: middle;\n",
       "    }\n",
       "\n",
       "    .dataframe tbody tr th {\n",
       "        vertical-align: top;\n",
       "    }\n",
       "\n",
       "    .dataframe thead th {\n",
       "        text-align: right;\n",
       "    }\n",
       "</style>\n",
       "<table border=\"1\" class=\"dataframe\">\n",
       "  <thead>\n",
       "    <tr style=\"text-align: right;\">\n",
       "      <th></th>\n",
       "      <th>label</th>\n",
       "      <th>total_cnt</th>\n",
       "      <th>correct_cnt</th>\n",
       "      <th>acc</th>\n",
       "    </tr>\n",
       "  </thead>\n",
       "  <tbody>\n",
       "    <tr>\n",
       "      <th>0</th>\n",
       "      <td>3</td>\n",
       "      <td>2</td>\n",
       "      <td>0</td>\n",
       "      <td>0.000000</td>\n",
       "    </tr>\n",
       "    <tr>\n",
       "      <th>1</th>\n",
       "      <td>4</td>\n",
       "      <td>46</td>\n",
       "      <td>17</td>\n",
       "      <td>0.369565</td>\n",
       "    </tr>\n",
       "    <tr>\n",
       "      <th>2</th>\n",
       "      <td>5</td>\n",
       "      <td>420</td>\n",
       "      <td>400</td>\n",
       "      <td>0.952381</td>\n",
       "    </tr>\n",
       "    <tr>\n",
       "      <th>3</th>\n",
       "      <td>6</td>\n",
       "      <td>579</td>\n",
       "      <td>563</td>\n",
       "      <td>0.972366</td>\n",
       "    </tr>\n",
       "    <tr>\n",
       "      <th>4</th>\n",
       "      <td>7</td>\n",
       "      <td>221</td>\n",
       "      <td>178</td>\n",
       "      <td>0.805430</td>\n",
       "    </tr>\n",
       "    <tr>\n",
       "      <th>5</th>\n",
       "      <td>8</td>\n",
       "      <td>32</td>\n",
       "      <td>10</td>\n",
       "      <td>0.312500</td>\n",
       "    </tr>\n",
       "  </tbody>\n",
       "</table>\n",
       "</div>"
      ],
      "text/plain": [
       "   label  total_cnt  correct_cnt       acc\n",
       "0      3          2            0  0.000000\n",
       "1      4         46           17  0.369565\n",
       "2      5        420          400  0.952381\n",
       "3      6        579          563  0.972366\n",
       "4      7        221          178  0.805430\n",
       "5      8         32           10  0.312500"
      ]
     },
     "execution_count": 135,
     "metadata": {},
     "output_type": "execute_result"
    }
   ],
   "source": [
    "RFC_grid_acc = AccWithTol_Clf(grid_search.best_estimator_,1,X_test,y_test)\n",
    "RFC_grid_acc"
   ]
  },
  {
   "cell_type": "code",
   "execution_count": 136,
   "metadata": {
    "scrolled": false
   },
   "outputs": [
    {
     "name": "stdout",
     "output_type": "stream",
     "text": [
      "Train set accuracy 0.9992303251876082\n",
      "******Train set confusion matrix************\n",
      "[[  28    0    0    0    0    0    0]\n",
      " [   0  170    0    0    0    0    0]\n",
      " [   0    0 1717    1    0    0    0]\n",
      " [   0    0    3 2254    0    0    0]\n",
      " [   0    0    0    0  858    0    0]\n",
      " [   0    0    0    0    0  161    0]\n",
      " [   0    0    0    0    0    0    5]]\n",
      "\n",
      "\n",
      "Test set accuracy 0.686923076923077\n",
      "******Test set confusion matrix************\n",
      "[[  0   0   2   0   0   0]\n",
      " [  1   7  25  11   2   0]\n",
      " [  0   2 330  85   3   0]\n",
      " [  0   1  95 435  48   0]\n",
      " [  0   0   9  97 113   2]\n",
      " [  0   0   0  15   9   8]]\n",
      "\n",
      "Top 2 Accuracy: 0.8984615384615384\n"
     ]
    }
   ],
   "source": [
    "PrintResults(grid_search.best_estimator_,X_train,y_train,X_test,y_test)"
   ]
  },
  {
   "cell_type": "markdown",
   "metadata": {},
   "source": [
    "## Feature Importance"
   ]
  },
  {
   "cell_type": "code",
   "execution_count": 56,
   "metadata": {},
   "outputs": [
    {
     "data": {
      "text/plain": [
       "[(0.13757648108810225, 'alcohol'),\n",
       " (0.10509857015551102, 'volatile acidity'),\n",
       " (0.098495644975274, 'density'),\n",
       " (0.08962774724575794, 'total sulfur dioxide'),\n",
       " (0.08762649120656886, 'free sulfur dioxide'),\n",
       " (0.08392579809022746, 'sulphates'),\n",
       " (0.08354152468167267, 'residual sugar'),\n",
       " (0.080644160464627, 'chlorides'),\n",
       " (0.07955458035545662, 'citric acid'),\n",
       " (0.07635490443353606, 'pH'),\n",
       " (0.07050965476605824, 'fixed acidity'),\n",
       " (0.0038642346510926705, 'type_red'),\n",
       " (0.003180207886115264, 'type_white')]"
      ]
     },
     "execution_count": 56,
     "metadata": {},
     "output_type": "execute_result"
    }
   ],
   "source": [
    "feature_importances = grid_search.best_estimator_[1].feature_importances_\n",
    "attributes = list(X_train)\n",
    "sorted(zip(feature_importances, attributes), reverse=True)"
   ]
  },
  {
   "cell_type": "code",
   "execution_count": 57,
   "metadata": {},
   "outputs": [],
   "source": [
    "feature_names = ['volatile acidity','residual sugar','free sulfur dioxide','total sulfur dioxide','density','alcohol']\n",
    "\n",
    "X_train_drop=pd.DataFrame(X_train[feature_names])\n",
    "X_test_drop=pd.DataFrame(X_test[feature_names])\n",
    "\n"
   ]
  },
  {
   "cell_type": "code",
   "execution_count": 59,
   "metadata": {},
   "outputs": [
    {
     "name": "stdout",
     "output_type": "stream",
     "text": [
      "{'randomforestclassifier__bootstrap': False, 'randomforestclassifier__max_depth': 15, 'randomforestclassifier__max_features': 1, 'randomforestclassifier__min_samples_leaf': 1, 'randomforestclassifier__min_samples_split': 2, 'randomforestclassifier__n_estimators': 20}\n"
     ]
    }
   ],
   "source": [
    "param_grid = [\n",
    "    {'randomforestclassifier__bootstrap': [False], \n",
    "     'randomforestclassifier__n_estimators': [5, 10, 20], \n",
    "     'randomforestclassifier__max_features':  [1,3,6],\n",
    "     'randomforestclassifier__max_depth':[5,10,15],\n",
    "     'randomforestclassifier__min_samples_split':[2,5,10],\n",
    "     'randomforestclassifier__min_samples_leaf':[1,5,10]}\n",
    "  ]\n",
    "\n",
    "grid_search_drop = GridSearchCV(estimator = RFC,\n",
    "                           param_grid = param_grid,\n",
    "                           scoring = 'accuracy',\n",
    "                           cv = 5,\n",
    "                           n_jobs = -1)\n",
    "grid_search_drop = grid_search_drop.fit(X_train_drop, y_train)\n",
    "print(grid_search_drop.best_params_)\n"
   ]
  },
  {
   "cell_type": "code",
   "execution_count": 137,
   "metadata": {},
   "outputs": [
    {
     "data": {
      "text/html": [
       "<div>\n",
       "<style scoped>\n",
       "    .dataframe tbody tr th:only-of-type {\n",
       "        vertical-align: middle;\n",
       "    }\n",
       "\n",
       "    .dataframe tbody tr th {\n",
       "        vertical-align: top;\n",
       "    }\n",
       "\n",
       "    .dataframe thead th {\n",
       "        text-align: right;\n",
       "    }\n",
       "</style>\n",
       "<table border=\"1\" class=\"dataframe\">\n",
       "  <thead>\n",
       "    <tr style=\"text-align: right;\">\n",
       "      <th></th>\n",
       "      <th>label</th>\n",
       "      <th>total_cnt</th>\n",
       "      <th>correct_cnt</th>\n",
       "      <th>acc</th>\n",
       "    </tr>\n",
       "  </thead>\n",
       "  <tbody>\n",
       "    <tr>\n",
       "      <th>0</th>\n",
       "      <td>3</td>\n",
       "      <td>2</td>\n",
       "      <td>0</td>\n",
       "      <td>0.000000</td>\n",
       "    </tr>\n",
       "    <tr>\n",
       "      <th>1</th>\n",
       "      <td>4</td>\n",
       "      <td>46</td>\n",
       "      <td>15</td>\n",
       "      <td>0.326087</td>\n",
       "    </tr>\n",
       "    <tr>\n",
       "      <th>2</th>\n",
       "      <td>5</td>\n",
       "      <td>420</td>\n",
       "      <td>402</td>\n",
       "      <td>0.957143</td>\n",
       "    </tr>\n",
       "    <tr>\n",
       "      <th>3</th>\n",
       "      <td>6</td>\n",
       "      <td>579</td>\n",
       "      <td>567</td>\n",
       "      <td>0.979275</td>\n",
       "    </tr>\n",
       "    <tr>\n",
       "      <th>4</th>\n",
       "      <td>7</td>\n",
       "      <td>221</td>\n",
       "      <td>190</td>\n",
       "      <td>0.859729</td>\n",
       "    </tr>\n",
       "    <tr>\n",
       "      <th>5</th>\n",
       "      <td>8</td>\n",
       "      <td>32</td>\n",
       "      <td>12</td>\n",
       "      <td>0.375000</td>\n",
       "    </tr>\n",
       "  </tbody>\n",
       "</table>\n",
       "</div>"
      ],
      "text/plain": [
       "   label  total_cnt  correct_cnt       acc\n",
       "0      3          2            0  0.000000\n",
       "1      4         46           15  0.326087\n",
       "2      5        420          402  0.957143\n",
       "3      6        579          567  0.979275\n",
       "4      7        221          190  0.859729\n",
       "5      8         32           12  0.375000"
      ]
     },
     "execution_count": 137,
     "metadata": {},
     "output_type": "execute_result"
    }
   ],
   "source": [
    "FI_RFC_grid_acc = AccWithTol_Clf(grid_search_drop.best_estimator_,1,X_test_drop,y_test)\n",
    "FI_RFC_grid_acc"
   ]
  },
  {
   "cell_type": "code",
   "execution_count": 138,
   "metadata": {
    "scrolled": false
   },
   "outputs": [
    {
     "name": "stdout",
     "output_type": "stream",
     "text": [
      "Train set accuracy 0.996921300750433\n",
      "******Train set confusion matrix************\n",
      "[[  28    0    0    0    0    0    0]\n",
      " [   0  169    1    0    0    0    0]\n",
      " [   0    0 1713    5    0    0    0]\n",
      " [   0    0    5 2252    0    0    0]\n",
      " [   0    0    0    1  857    0    0]\n",
      " [   0    0    0    1    3  157    0]\n",
      " [   0    0    0    0    0    0    5]]\n",
      "\n",
      "\n",
      "Test set accuracy 0.6807692307692308\n",
      "******Test set confusion matrix************\n",
      "[[  0   0   2   0   0   0]\n",
      " [  0  11  23  11   1   0]\n",
      " [  1   5 310 101   3   0]\n",
      " [  0   0  94 445  40   0]\n",
      " [  0   0   4 104 112   1]\n",
      " [  0   0   0  15  10   7]]\n",
      "\n",
      "Top 2 Accuracy: 0.9123076923076923\n"
     ]
    }
   ],
   "source": [
    "PrintResults(grid_search_drop.best_estimator_, X_train_drop, y_train, X_test_drop, y_test)"
   ]
  },
  {
   "cell_type": "markdown",
   "metadata": {},
   "source": [
    "## PCA"
   ]
  },
  {
   "cell_type": "code",
   "execution_count": 92,
   "metadata": {},
   "outputs": [],
   "source": [
    "PCA_RFC = make_pipeline(\n",
    "            StandardScaler(), \n",
    "            PCA(n_components=.95),\n",
    "            RandomForestClassifier(n_estimators = 10, criterion = 'entropy', random_state = 0)\n",
    "        )"
   ]
  },
  {
   "cell_type": "code",
   "execution_count": 93,
   "metadata": {},
   "outputs": [
    {
     "name": "stdout",
     "output_type": "stream",
     "text": [
      "{'randomforestclassifier__bootstrap': False, 'randomforestclassifier__max_depth': 15, 'randomforestclassifier__max_features': 2, 'randomforestclassifier__min_samples_leaf': 1, 'randomforestclassifier__min_samples_split': 5, 'randomforestclassifier__n_estimators': 20}\n"
     ]
    }
   ],
   "source": [
    "param_grid = [\n",
    "    {'randomforestclassifier__bootstrap': [False], \n",
    "     'randomforestclassifier__n_estimators': [5, 10, 20], \n",
    "     'randomforestclassifier__max_features': [2, 4,9],\n",
    "     'randomforestclassifier__min_samples_split':[2,5,10],\n",
    "     'randomforestclassifier__max_depth':[5,10,15],\n",
    "     'randomforestclassifier__min_samples_leaf':[1,5,10]}\n",
    "  ]\n",
    "\n",
    "grid_search_PC = GridSearchCV(PCA_RFC, param_grid, cv=5,\n",
    "                           scoring='accuracy',\n",
    "                           return_train_score=True,error_score=np.nan,n_jobs = -1)\n",
    "grid_search_PC.fit(X_train, y_train)\n",
    "print(grid_search_PC.best_params_)"
   ]
  },
  {
   "cell_type": "code",
   "execution_count": 139,
   "metadata": {},
   "outputs": [
    {
     "data": {
      "text/html": [
       "<div>\n",
       "<style scoped>\n",
       "    .dataframe tbody tr th:only-of-type {\n",
       "        vertical-align: middle;\n",
       "    }\n",
       "\n",
       "    .dataframe tbody tr th {\n",
       "        vertical-align: top;\n",
       "    }\n",
       "\n",
       "    .dataframe thead th {\n",
       "        text-align: right;\n",
       "    }\n",
       "</style>\n",
       "<table border=\"1\" class=\"dataframe\">\n",
       "  <thead>\n",
       "    <tr style=\"text-align: right;\">\n",
       "      <th></th>\n",
       "      <th>label</th>\n",
       "      <th>total_cnt</th>\n",
       "      <th>correct_cnt</th>\n",
       "      <th>acc</th>\n",
       "    </tr>\n",
       "  </thead>\n",
       "  <tbody>\n",
       "    <tr>\n",
       "      <th>0</th>\n",
       "      <td>3</td>\n",
       "      <td>2</td>\n",
       "      <td>0</td>\n",
       "      <td>0.000000</td>\n",
       "    </tr>\n",
       "    <tr>\n",
       "      <th>1</th>\n",
       "      <td>4</td>\n",
       "      <td>46</td>\n",
       "      <td>14</td>\n",
       "      <td>0.304348</td>\n",
       "    </tr>\n",
       "    <tr>\n",
       "      <th>2</th>\n",
       "      <td>5</td>\n",
       "      <td>420</td>\n",
       "      <td>406</td>\n",
       "      <td>0.966667</td>\n",
       "    </tr>\n",
       "    <tr>\n",
       "      <th>3</th>\n",
       "      <td>6</td>\n",
       "      <td>579</td>\n",
       "      <td>573</td>\n",
       "      <td>0.989637</td>\n",
       "    </tr>\n",
       "    <tr>\n",
       "      <th>4</th>\n",
       "      <td>7</td>\n",
       "      <td>221</td>\n",
       "      <td>180</td>\n",
       "      <td>0.814480</td>\n",
       "    </tr>\n",
       "    <tr>\n",
       "      <th>5</th>\n",
       "      <td>8</td>\n",
       "      <td>32</td>\n",
       "      <td>12</td>\n",
       "      <td>0.375000</td>\n",
       "    </tr>\n",
       "  </tbody>\n",
       "</table>\n",
       "</div>"
      ],
      "text/plain": [
       "   label  total_cnt  correct_cnt       acc\n",
       "0      3          2            0  0.000000\n",
       "1      4         46           14  0.304348\n",
       "2      5        420          406  0.966667\n",
       "3      6        579          573  0.989637\n",
       "4      7        221          180  0.814480\n",
       "5      8         32           12  0.375000"
      ]
     },
     "execution_count": 139,
     "metadata": {},
     "output_type": "execute_result"
    }
   ],
   "source": [
    "PCA_RFC_grid_acc = AccWithTol_Clf(grid_search_PC.best_estimator_,1,X_test,y_test)\n",
    "PCA_RFC_grid_acc"
   ]
  },
  {
   "cell_type": "code",
   "execution_count": 140,
   "metadata": {},
   "outputs": [
    {
     "name": "stdout",
     "output_type": "stream",
     "text": [
      "Train set accuracy 0.9992303251876082\n",
      "******Train set confusion matrix************\n",
      "[[  27    0    0    1    0    0    0]\n",
      " [   0  170    0    0    0    0    0]\n",
      " [   0    0 1718    0    0    0    0]\n",
      " [   0    0    1 2256    0    0    0]\n",
      " [   0    0    0    2  856    0    0]\n",
      " [   0    0    0    0    0  161    0]\n",
      " [   0    0    0    0    0    0    5]]\n",
      "\n",
      "\n",
      "Test set accuracy 0.693076923076923\n",
      "******Test set confusion matrix************\n",
      "[[  0   0   2   0   0   0]\n",
      " [  0   9  22  14   1   0]\n",
      " [  1   0 313 102   4   0]\n",
      " [  0   1  79 455  43   1]\n",
      " [  0   0   6  97 117   1]\n",
      " [  0   0   1  14  10   7]]\n",
      "\n",
      "Top 2 Accuracy: 0.9115384615384615\n"
     ]
    }
   ],
   "source": [
    "PrintResults(grid_search_PC.best_estimator_,X_train,y_train,X_test,y_test)"
   ]
  },
  {
   "cell_type": "markdown",
   "metadata": {},
   "source": [
    "## Feature Selection + Random Forest"
   ]
  },
  {
   "cell_type": "markdown",
   "metadata": {},
   "source": [
    "### $\\ell_1$ penalty"
   ]
  },
  {
   "cell_type": "code",
   "execution_count": 96,
   "metadata": {},
   "outputs": [],
   "source": [
    "FS_RF_l1 = make_pipeline(\n",
    "            StandardScaler(),\n",
    "            SelectFromModel(LinearSVC(C=0.01, penalty=\"l1\", dual=False,max_iter=5000)),\n",
    "            RandomForestClassifier(n_estimators = 20, criterion = 'entropy', random_state = 0)\n",
    "        )"
   ]
  },
  {
   "cell_type": "code",
   "execution_count": 98,
   "metadata": {},
   "outputs": [
    {
     "name": "stderr",
     "output_type": "stream",
     "text": [
      "/Users/mkhoi/anaconda3/lib/python3.6/site-packages/sklearn/model_selection/_search.py:814: DeprecationWarning: The default of the `iid` parameter will change from True to False in version 0.22 and will be removed in 0.24. This will change numeric results when test-set sizes are unequal.\n",
      "  DeprecationWarning)\n"
     ]
    },
    {
     "name": "stdout",
     "output_type": "stream",
     "text": [
      "{'randomforestclassifier__bootstrap': False, 'randomforestclassifier__max_depth': 15, 'randomforestclassifier__max_features': 4, 'randomforestclassifier__min_samples_leaf': 1, 'randomforestclassifier__min_samples_split': 5, 'randomforestclassifier__n_estimators': 20, 'selectfrommodel__estimator__C': 0.1}\n"
     ]
    }
   ],
   "source": [
    "param_grid = [\n",
    "    {'selectfrommodel__estimator__C': [1e-3,1e-2,1e-1,1],\n",
    "     'randomforestclassifier__bootstrap': [False], \n",
    "     'randomforestclassifier__n_estimators': [5, 10, 20], \n",
    "     'randomforestclassifier__max_features': [2, 4,9],\n",
    "     'randomforestclassifier__min_samples_split':[2,5,10],\n",
    "     'randomforestclassifier__max_depth':[5,10,15],\n",
    "     'randomforestclassifier__min_samples_leaf':[1,5,10]}\n",
    "  ]\n",
    "\n",
    "grid_search_fsrf_l1 = GridSearchCV(FS_RF_l1, param_grid, cv=5,\n",
    "                           scoring='accuracy',\n",
    "                           return_train_score=True,error_score=np.nan,n_jobs = -1)\n",
    "grid_search_fsrf_l1.fit(X_train, y_train)\n",
    "print(grid_search_fsrf_l1.best_params_)"
   ]
  },
  {
   "cell_type": "code",
   "execution_count": 141,
   "metadata": {},
   "outputs": [
    {
     "data": {
      "text/html": [
       "<div>\n",
       "<style scoped>\n",
       "    .dataframe tbody tr th:only-of-type {\n",
       "        vertical-align: middle;\n",
       "    }\n",
       "\n",
       "    .dataframe tbody tr th {\n",
       "        vertical-align: top;\n",
       "    }\n",
       "\n",
       "    .dataframe thead th {\n",
       "        text-align: right;\n",
       "    }\n",
       "</style>\n",
       "<table border=\"1\" class=\"dataframe\">\n",
       "  <thead>\n",
       "    <tr style=\"text-align: right;\">\n",
       "      <th></th>\n",
       "      <th>label</th>\n",
       "      <th>total_cnt</th>\n",
       "      <th>correct_cnt</th>\n",
       "      <th>acc</th>\n",
       "    </tr>\n",
       "  </thead>\n",
       "  <tbody>\n",
       "    <tr>\n",
       "      <th>0</th>\n",
       "      <td>3</td>\n",
       "      <td>2</td>\n",
       "      <td>0</td>\n",
       "      <td>0.000000</td>\n",
       "    </tr>\n",
       "    <tr>\n",
       "      <th>1</th>\n",
       "      <td>4</td>\n",
       "      <td>46</td>\n",
       "      <td>17</td>\n",
       "      <td>0.369565</td>\n",
       "    </tr>\n",
       "    <tr>\n",
       "      <th>2</th>\n",
       "      <td>5</td>\n",
       "      <td>420</td>\n",
       "      <td>407</td>\n",
       "      <td>0.969048</td>\n",
       "    </tr>\n",
       "    <tr>\n",
       "      <th>3</th>\n",
       "      <td>6</td>\n",
       "      <td>579</td>\n",
       "      <td>570</td>\n",
       "      <td>0.984456</td>\n",
       "    </tr>\n",
       "    <tr>\n",
       "      <th>4</th>\n",
       "      <td>7</td>\n",
       "      <td>221</td>\n",
       "      <td>185</td>\n",
       "      <td>0.837104</td>\n",
       "    </tr>\n",
       "    <tr>\n",
       "      <th>5</th>\n",
       "      <td>8</td>\n",
       "      <td>32</td>\n",
       "      <td>10</td>\n",
       "      <td>0.312500</td>\n",
       "    </tr>\n",
       "  </tbody>\n",
       "</table>\n",
       "</div>"
      ],
      "text/plain": [
       "   label  total_cnt  correct_cnt       acc\n",
       "0      3          2            0  0.000000\n",
       "1      4         46           17  0.369565\n",
       "2      5        420          407  0.969048\n",
       "3      6        579          570  0.984456\n",
       "4      7        221          185  0.837104\n",
       "5      8         32           10  0.312500"
      ]
     },
     "execution_count": 141,
     "metadata": {},
     "output_type": "execute_result"
    }
   ],
   "source": [
    "FS_RFC_L1_grid_acc = AccWithTol_Clf(grid_search_fsrf_l1.best_estimator_,1,X_test,y_test)\n",
    "FS_RFC_L1_grid_acc"
   ]
  },
  {
   "cell_type": "code",
   "execution_count": 142,
   "metadata": {},
   "outputs": [
    {
     "name": "stdout",
     "output_type": "stream",
     "text": [
      "Train set accuracy 0.9953819511256494\n",
      "******Train set confusion matrix************\n",
      "[[  28    0    0    0    0    0    0]\n",
      " [   0  169    0    1    0    0    0]\n",
      " [   0    0 1715    3    0    0    0]\n",
      " [   0    0   15 2242    0    0    0]\n",
      " [   0    0    1    2  855    0    0]\n",
      " [   0    0    0    1    1  159    0]\n",
      " [   0    0    0    0    0    0    5]]\n",
      "\n",
      "\n",
      "Test set accuracy 0.6861538461538461\n",
      "******Test set confusion matrix************\n",
      "[[  0   0   1   1   0   0]\n",
      " [  0   9  27   9   1   0]\n",
      " [  0   2 325  91   2   0]\n",
      " [  0   0 102 441  35   1]\n",
      " [  0   1   7 100 110   3]\n",
      " [  0   0   1  13  11   7]]\n",
      "\n",
      "Top 2 Accuracy: 0.9146153846153846\n"
     ]
    }
   ],
   "source": [
    "PrintResults(grid_search_fsrf_l1.best_estimator_,X_train,y_train,X_test,y_test)"
   ]
  },
  {
   "cell_type": "markdown",
   "metadata": {},
   "source": [
    "### $\\ell_2$ penalty"
   ]
  },
  {
   "cell_type": "code",
   "execution_count": 101,
   "metadata": {},
   "outputs": [],
   "source": [
    "FS_RF_l2 = make_pipeline(\n",
    "            StandardScaler(),\n",
    "            SelectFromModel(LinearSVC(C=0.01, penalty=\"l2\", dual=False,max_iter=5000)),\n",
    "            RandomForestClassifier(n_estimators = 20, criterion = 'entropy', random_state = 0)\n",
    "        )"
   ]
  },
  {
   "cell_type": "code",
   "execution_count": 103,
   "metadata": {},
   "outputs": [
    {
     "name": "stderr",
     "output_type": "stream",
     "text": [
      "/Users/mkhoi/anaconda3/lib/python3.6/site-packages/sklearn/model_selection/_search.py:814: DeprecationWarning: The default of the `iid` parameter will change from True to False in version 0.22 and will be removed in 0.24. This will change numeric results when test-set sizes are unequal.\n",
      "  DeprecationWarning)\n"
     ]
    },
    {
     "name": "stdout",
     "output_type": "stream",
     "text": [
      "{'randomforestclassifier__bootstrap': False, 'randomforestclassifier__max_depth': 15, 'randomforestclassifier__max_features': 2, 'randomforestclassifier__min_samples_leaf': 1, 'randomforestclassifier__min_samples_split': 2, 'randomforestclassifier__n_estimators': 20, 'selectfrommodel__estimator__C': 0.01}\n"
     ]
    }
   ],
   "source": [
    "param_grid = [\n",
    "    {'selectfrommodel__estimator__C': [1e-3,1e-2,1e-1,1],\n",
    "     'randomforestclassifier__bootstrap': [False], \n",
    "     'randomforestclassifier__n_estimators': [5, 10, 20], \n",
    "     'randomforestclassifier__max_features': [2, 4,9],\n",
    "     'randomforestclassifier__min_samples_split':[2,5,10],\n",
    "     'randomforestclassifier__max_depth':[5,10,15],\n",
    "     'randomforestclassifier__min_samples_leaf':[1,5,10]}\n",
    "  ]\n",
    "\n",
    "grid_search_fsrf_l2 = GridSearchCV(FS_RF_l2, param_grid, cv=5,\n",
    "                           scoring='accuracy',\n",
    "                           return_train_score=True,error_score=np.nan,n_jobs = -1)\n",
    "grid_search_fsrf_l2.fit(X_train, y_train)\n",
    "print(grid_search_fsrf_l2.best_params_)"
   ]
  },
  {
   "cell_type": "code",
   "execution_count": 143,
   "metadata": {},
   "outputs": [
    {
     "data": {
      "text/html": [
       "<div>\n",
       "<style scoped>\n",
       "    .dataframe tbody tr th:only-of-type {\n",
       "        vertical-align: middle;\n",
       "    }\n",
       "\n",
       "    .dataframe tbody tr th {\n",
       "        vertical-align: top;\n",
       "    }\n",
       "\n",
       "    .dataframe thead th {\n",
       "        text-align: right;\n",
       "    }\n",
       "</style>\n",
       "<table border=\"1\" class=\"dataframe\">\n",
       "  <thead>\n",
       "    <tr style=\"text-align: right;\">\n",
       "      <th></th>\n",
       "      <th>label</th>\n",
       "      <th>total_cnt</th>\n",
       "      <th>correct_cnt</th>\n",
       "      <th>acc</th>\n",
       "    </tr>\n",
       "  </thead>\n",
       "  <tbody>\n",
       "    <tr>\n",
       "      <th>0</th>\n",
       "      <td>3</td>\n",
       "      <td>2</td>\n",
       "      <td>0</td>\n",
       "      <td>0.000000</td>\n",
       "    </tr>\n",
       "    <tr>\n",
       "      <th>1</th>\n",
       "      <td>4</td>\n",
       "      <td>46</td>\n",
       "      <td>12</td>\n",
       "      <td>0.260870</td>\n",
       "    </tr>\n",
       "    <tr>\n",
       "      <th>2</th>\n",
       "      <td>5</td>\n",
       "      <td>420</td>\n",
       "      <td>389</td>\n",
       "      <td>0.926190</td>\n",
       "    </tr>\n",
       "    <tr>\n",
       "      <th>3</th>\n",
       "      <td>6</td>\n",
       "      <td>579</td>\n",
       "      <td>554</td>\n",
       "      <td>0.956822</td>\n",
       "    </tr>\n",
       "    <tr>\n",
       "      <th>4</th>\n",
       "      <td>7</td>\n",
       "      <td>221</td>\n",
       "      <td>175</td>\n",
       "      <td>0.791855</td>\n",
       "    </tr>\n",
       "    <tr>\n",
       "      <th>5</th>\n",
       "      <td>8</td>\n",
       "      <td>32</td>\n",
       "      <td>12</td>\n",
       "      <td>0.375000</td>\n",
       "    </tr>\n",
       "  </tbody>\n",
       "</table>\n",
       "</div>"
      ],
      "text/plain": [
       "   label  total_cnt  correct_cnt       acc\n",
       "0      3          2            0  0.000000\n",
       "1      4         46           12  0.260870\n",
       "2      5        420          389  0.926190\n",
       "3      6        579          554  0.956822\n",
       "4      7        221          175  0.791855\n",
       "5      8         32           12  0.375000"
      ]
     },
     "execution_count": 143,
     "metadata": {},
     "output_type": "execute_result"
    }
   ],
   "source": [
    "FS_RFC_L2_grid_acc = AccWithTol_Clf(grid_search_fsrf_l2.best_estimator_,1,X_test,y_test)\n",
    "FS_RFC_L2_grid_acc"
   ]
  },
  {
   "cell_type": "code",
   "execution_count": 144,
   "metadata": {},
   "outputs": [
    {
     "name": "stdout",
     "output_type": "stream",
     "text": [
      "Train set accuracy 0.9948046950163556\n",
      "******Train set confusion matrix************\n",
      "[[  28    0    0    0    0    0    0]\n",
      " [   0  170    0    0    0    0    0]\n",
      " [   0    0 1708   10    0    0    0]\n",
      " [   0    0   11 2246    0    0    0]\n",
      " [   0    0    0    2  856    0    0]\n",
      " [   0    0    0    4    0  157    0]\n",
      " [   0    0    0    0    0    0    5]]\n",
      "\n",
      "\n",
      "Test set accuracy 0.6569230769230769\n",
      "******Test set confusion matrix************\n",
      "[[  0   0   2   0   0   0]\n",
      " [  0   9  23  11   3   0]\n",
      " [  0   6 305 106   3   0]\n",
      " [  0   0 100 416  60   3]\n",
      " [  0   0  13  91 116   1]\n",
      " [  0   0   0  14  10   8]]\n",
      "\n",
      "Top 2 Accuracy: 0.8784615384615385\n"
     ]
    }
   ],
   "source": [
    "PrintResults(grid_search_fsrf_l2.best_estimator_,X_train,y_train,X_test,y_test)"
   ]
  },
  {
   "cell_type": "markdown",
   "metadata": {},
   "source": [
    "## Summary"
   ]
  },
  {
   "cell_type": "code",
   "execution_count": 145,
   "metadata": {},
   "outputs": [
    {
     "data": {
      "text/html": [
       "<div>\n",
       "<style scoped>\n",
       "    .dataframe tbody tr th:only-of-type {\n",
       "        vertical-align: middle;\n",
       "    }\n",
       "\n",
       "    .dataframe tbody tr th {\n",
       "        vertical-align: top;\n",
       "    }\n",
       "\n",
       "    .dataframe thead th {\n",
       "        text-align: right;\n",
       "    }\n",
       "</style>\n",
       "<table border=\"1\" class=\"dataframe\">\n",
       "  <thead>\n",
       "    <tr style=\"text-align: right;\">\n",
       "      <th></th>\n",
       "      <th>RF</th>\n",
       "      <th>FI + RF</th>\n",
       "      <th>PCA + RF</th>\n",
       "      <th>FS L1 + RF</th>\n",
       "      <th>FS L2 + RF</th>\n",
       "    </tr>\n",
       "    <tr>\n",
       "      <th>Label</th>\n",
       "      <th></th>\n",
       "      <th></th>\n",
       "      <th></th>\n",
       "      <th></th>\n",
       "      <th></th>\n",
       "    </tr>\n",
       "  </thead>\n",
       "  <tbody>\n",
       "    <tr>\n",
       "      <th>Class_3</th>\n",
       "      <td>0.000000</td>\n",
       "      <td>0.000000</td>\n",
       "      <td>0.000000</td>\n",
       "      <td>0.000000</td>\n",
       "      <td>0.000000</td>\n",
       "    </tr>\n",
       "    <tr>\n",
       "      <th>Class_4</th>\n",
       "      <td>0.369565</td>\n",
       "      <td>0.326087</td>\n",
       "      <td>0.304348</td>\n",
       "      <td>0.369565</td>\n",
       "      <td>0.260870</td>\n",
       "    </tr>\n",
       "    <tr>\n",
       "      <th>Class_5</th>\n",
       "      <td>0.952381</td>\n",
       "      <td>0.957143</td>\n",
       "      <td>0.966667</td>\n",
       "      <td>0.969048</td>\n",
       "      <td>0.926190</td>\n",
       "    </tr>\n",
       "    <tr>\n",
       "      <th>Class_6</th>\n",
       "      <td>0.972366</td>\n",
       "      <td>0.979275</td>\n",
       "      <td>0.989637</td>\n",
       "      <td>0.984456</td>\n",
       "      <td>0.956822</td>\n",
       "    </tr>\n",
       "    <tr>\n",
       "      <th>Class_7</th>\n",
       "      <td>0.805430</td>\n",
       "      <td>0.859729</td>\n",
       "      <td>0.814480</td>\n",
       "      <td>0.837104</td>\n",
       "      <td>0.791855</td>\n",
       "    </tr>\n",
       "    <tr>\n",
       "      <th>Class_8</th>\n",
       "      <td>0.312500</td>\n",
       "      <td>0.375000</td>\n",
       "      <td>0.375000</td>\n",
       "      <td>0.312500</td>\n",
       "      <td>0.375000</td>\n",
       "    </tr>\n",
       "  </tbody>\n",
       "</table>\n",
       "</div>"
      ],
      "text/plain": [
       "               RF   FI + RF  PCA + RF  FS L1 + RF  FS L2 + RF\n",
       "Label                                                        \n",
       "Class_3  0.000000  0.000000  0.000000    0.000000    0.000000\n",
       "Class_4  0.369565  0.326087  0.304348    0.369565    0.260870\n",
       "Class_5  0.952381  0.957143  0.966667    0.969048    0.926190\n",
       "Class_6  0.972366  0.979275  0.989637    0.984456    0.956822\n",
       "Class_7  0.805430  0.859729  0.814480    0.837104    0.791855\n",
       "Class_8  0.312500  0.375000  0.375000    0.312500    0.375000"
      ]
     },
     "execution_count": 145,
     "metadata": {},
     "output_type": "execute_result"
    }
   ],
   "source": [
    "new_dict = {\n",
    "        'Label': ['Class_'+str(x) for x in range(3,9)],\n",
    "        'RF': RFC_grid_acc.acc,\n",
    "        'FI + RF': FI_RFC_grid_acc.acc, \n",
    "        'PCA + RF': PCA_RFC_grid_acc.acc,\n",
    "        'FS L1 + RF': FS_RFC_L1_grid_acc.acc,\n",
    "        'FS L2 + RF': FS_RFC_L2_grid_acc.acc,\n",
    "}\n",
    "\n",
    "reg_df = pd.DataFrame(new_dict)\n",
    "reg_df.set_index('Label', inplace=True)\n",
    "reg_df"
   ]
  },
  {
   "cell_type": "code",
   "execution_count": 146,
   "metadata": {
    "slideshow": {
     "slide_type": "-"
    }
   },
   "outputs": [
    {
     "data": {
      "text/html": [
       "<div>\n",
       "<style scoped>\n",
       "    .dataframe tbody tr th:only-of-type {\n",
       "        vertical-align: middle;\n",
       "    }\n",
       "\n",
       "    .dataframe tbody tr th {\n",
       "        vertical-align: top;\n",
       "    }\n",
       "\n",
       "    .dataframe thead th {\n",
       "        text-align: right;\n",
       "    }\n",
       "</style>\n",
       "<table border=\"1\" class=\"dataframe\">\n",
       "  <thead>\n",
       "    <tr style=\"text-align: right;\">\n",
       "      <th></th>\n",
       "      <th>Total Acc</th>\n",
       "    </tr>\n",
       "  </thead>\n",
       "  <tbody>\n",
       "    <tr>\n",
       "      <th>RF</th>\n",
       "      <td>0.898462</td>\n",
       "    </tr>\n",
       "    <tr>\n",
       "      <th>FI + RF</th>\n",
       "      <td>0.912308</td>\n",
       "    </tr>\n",
       "    <tr>\n",
       "      <th>PCA + RF</th>\n",
       "      <td>0.911538</td>\n",
       "    </tr>\n",
       "    <tr>\n",
       "      <th>FS L1 + RF</th>\n",
       "      <td>0.914615</td>\n",
       "    </tr>\n",
       "    <tr>\n",
       "      <th>FS L2 + RF</th>\n",
       "      <td>0.878462</td>\n",
       "    </tr>\n",
       "  </tbody>\n",
       "</table>\n",
       "</div>"
      ],
      "text/plain": [
       "            Total Acc\n",
       "RF           0.898462\n",
       "FI + RF      0.912308\n",
       "PCA + RF     0.911538\n",
       "FS L1 + RF   0.914615\n",
       "FS L2 + RF   0.878462"
      ]
     },
     "execution_count": 146,
     "metadata": {},
     "output_type": "execute_result"
    }
   ],
   "source": [
    "reg_list = [RFC_grid_acc, FI_RFC_grid_acc, PCA_RFC_grid_acc, FS_RFC_L1_grid_acc, FS_RFC_L2_grid_acc]\n",
    "total_acc = []\n",
    "total_acc.extend([np.sum(x.correct_cnt) / np.sum(x.total_cnt) for x in  reg_list])\n",
    "\n",
    "new_dict = {'Total Acc': total_acc}\n",
    "reg_names = ['RF', 'FI + RF', 'PCA + RF', 'FS L1 + RF', 'FS L2 + RF']\n",
    "total_acc = pd.DataFrame(new_dict, index=reg_names)\n",
    "total_acc"
   ]
  },
  {
   "cell_type": "code",
   "execution_count": null,
   "metadata": {},
   "outputs": [],
   "source": []
  }
 ],
 "metadata": {
  "celltoolbar": "Slideshow",
  "kernelspec": {
   "display_name": "Python 3",
   "language": "python",
   "name": "python3"
  },
  "language_info": {
   "codemirror_mode": {
    "name": "ipython",
    "version": 3
   },
   "file_extension": ".py",
   "mimetype": "text/x-python",
   "name": "python",
   "nbconvert_exporter": "python",
   "pygments_lexer": "ipython3",
   "version": "3.7.3"
  }
 },
 "nbformat": 4,
 "nbformat_minor": 2
}

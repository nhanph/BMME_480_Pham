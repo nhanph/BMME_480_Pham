{
 "cells": [
  {
   "cell_type": "markdown",
   "metadata": {},
   "source": [
    "# Project Proposal\n",
    "\n",
    "\n",
    "## 1. Stock Market Prediction\n",
    "\n",
    "- Goal/How to proceed:\n",
    "\n",
    "- Type of problem: Regression/Deep Learning\n",
    "- Dataset: (from Kaggle: https://www.kaggle.com/borismarjanovic/price-volume-data-for-all-us-stocks-etfs)\n",
    "- Size: 8539 entry files, each contain data from up to 20 years' record with 6 feature columns\n",
    "- Features:\n",
    "    - `Date`\n",
    "    - `Open`\n",
    "    - `High`\n",
    "    - `Low`\n",
    "    - `Close`\n",
    "    - `Volume`\n",
    "    - `OpenInt`\n",
    "- Methods:Linear reguression, nearest neighbours, Autoregressive integrated moving average, ANN, RNN \n",
    "- Ground Truth: Stock Price \n",
    "\n",
    "- Challenges: The prediction of stock market involves too may factors where it may be hard to pinpoint useful information from the dataset. The stock performance in specific time frame is heavily anchored on the performance of the previous time frame, posing challenge in predicting across a large period of time. Finally, each features' mean and deviation changes across time. For example, when the exonomy is going well the stock price trend also goes up.\n"
    "\n",
    "## 2. Breast Cancer Classification\n",
    "\n",
    "- Type of problem: Classification\n",
    "- Dataset: (from Kaggle: https://www.kaggle.com/uciml/breast-cancer-wisconsin-data )\n",
    "- Size:570x32\n",
    "- Features: numerical indices precomputed from digitalized image from Fine Needle Aspiration (FNA) of a breast mass:\n",
    "        'radius_mean', 'texture_mean', 'perimeter_mean',\n",
    "       'area_mean', 'smoothness_mean', 'compactness_mean', 'concavity_mean',\n",
    "       'concave points_mean', 'symmetry_mean', 'fractal_dimension_mean',\n",
    "       'radius_se', 'texture_se', 'perimeter_se', 'area_se', 'smoothness_se',\n",
    "       'compactness_se', 'concavity_se', 'concave points_se', 'symmetry_se',\n",
    "       'fractal_dimension_se', 'radius_worst', 'texture_worst',\n",
    "       'perimeter_worst', 'area_worst', 'smoothness_worst',\n",
    "       'compactness_worst', 'concavity_worst', 'concave points_worst',\n",
    "       'symmetry_worst', 'fractal_dimension_worst',\n",
    "- Methods: Random Forest, KNN, PCA,SVM...every classification method that will be covered in this class\n",
    "- Ground Truth: Benign or malignant - comes with the dataset\n",
    "- Goal/How to proceed: Perform dimensionality reduction as most features are reported to be biologically correlated and thus redundant. Supervised learning will then be used.\n",
    "- Challenges: The feature selection might be difficult due to 32 possible features. Cherry picking from original features might not be helpful and throws a lot of information while preprocessing with PCA might yield components that are not biologically meaningful. Data size is small and will affect the outcome.\n",
    "\n",
    "## 3. Wine Quality\n",
    "\n",
    "- Type of problem: Classification\n",
    "- Dataset: (from UCI repository: https://archive.ics.uci.edu/ml/datasets/Wine+Quality)\n",
    "- Size: 4898x12\n",
    "- Features: \n",
    "    - `fixed acidity`\n",
    "    - `volatile acidity`\n",
    "    - `citric acid`\n",
    "    - `residual sugar`\n",
    "    - `chlorides`\n",
    "    - `free sulfur dioxide`\n",
    "    - `total sulfur dioxide`\n",
    "    - `density`\n",
    "    - `pH`\n",
    "    - `sulphates`\n",
    "    - `alcohol`\n",
    "- Goal/How to proceed: Machine learning methods can be used to predict the quality of the red and white wine (score from 0 to 10) in a supervised learning fashion. The data may not be clean so some preprocessing might need to be done.\n",
    "- Methods: SVM, Decision Tree/Random Forest\n",
    "- Ground Truth: given in the dataset\n",
    "- Challenges: outliers, some features may not be relevant."
   ]
  },
  {
   "cell_type": "code",
   "execution_count": null,
   "metadata": {},
   "outputs": [],
   "source": []
  }
 ],
 "metadata": {
  "kernelspec": {
   "display_name": "Python 2",
   "language": "python",
   "name": "python2"
  },
  "language_info": {
   "codemirror_mode": {
    "name": "ipython",
    "version": 2
   },
   "file_extension": ".py",
   "mimetype": "text/x-python",
   "name": "python",
   "nbconvert_exporter": "python",
   "pygments_lexer": "ipython2",
   "version": "2.7.16"
  }
 },
 "nbformat": 4,
 "nbformat_minor": 2
}

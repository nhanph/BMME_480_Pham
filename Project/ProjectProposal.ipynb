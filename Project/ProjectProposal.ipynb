{
 "cells": [
  {
   "cell_type": "markdown",
   "metadata": {},
   "source": [
    "# Project Proposal\n",
    "\n",
    "\n",
    "## 1. Stock Market Prediction\n",
    "\n",
    "- Goal/How to proceed:\n",
    "\n",
    "- Type of problem: Regression\n",
    "- Dataset: (from Kaggle)\n",
    "- Size:\n",
    "- Features:\n",
    "- Methods:\n",
    "- Ground Truth:\n",
    "\n",
    "- Challenges:\n",
    "\n",
    "## 2. Breast Cancer Classification\n",
    "\n",
    "- Type of problem: Classification\n",
    "- Dataset: (from Kaggle: https://www.kaggle.com/uciml/breast-cancer-wisconsin-data )\n",
    "- Size:570x32\n",
    "- Features:\n",
    "        'radius_mean', 'texture_mean', 'perimeter_mean',\n",
    "       'area_mean', 'smoothness_mean', 'compactness_mean', 'concavity_mean',\n",
    "       'concave points_mean', 'symmetry_mean', 'fractal_dimension_mean',\n",
    "       'radius_se', 'texture_se', 'perimeter_se', 'area_se', 'smoothness_se',\n",
    "       'compactness_se', 'concavity_se', 'concave points_se', 'symmetry_se',\n",
    "       'fractal_dimension_se', 'radius_worst', 'texture_worst',\n",
    "       'perimeter_worst', 'area_worst', 'smoothness_worst',\n",
    "       'compactness_worst', 'concavity_worst', 'concave points_worst',\n",
    "       'symmetry_worst', 'fractal_dimension_worst',\n",
    "- Methods: Random Forest, KNN, PCA,SVM...every classification method that will be covered in this class\n",
    "- Ground Truth: Benign or malignant\n",
    "- Goal/How to proceed: Examine each feature and find correlations between features. Pick features that are not correlated with each other to reduce number of features and apply the algorithms\n",
    "- Challenges: The feature selection might be difficult due to 32 possible features.\n",
    "\n",
    "## 3. Wine Quality\n",
    "\n",
    "- Type of problem: Classification\n",
    "- Dataset: (from UCI repository: https://archive.ics.uci.edu/ml/datasets/Wine+Quality)\n",
    "- Size: 4898x12\n",
    "- Features: \n",
    "    - `fixed acidity`\n",
    "    - `volatile acidity`\n",
    "    - `citric acid`\n",
    "    - `residual sugar`\n",
    "    - `chlorides`\n",
    "    - `free sulfur dioxide`\n",
    "    - `total sulfur dioxide`\n",
    "    - `density`\n",
    "    - `pH`\n",
    "    - `sulphates`\n",
    "    - `alcohol`\n",
    "- Goal/How to proceed: Machine learning methods can be used to predict the quality of the red and white wine (score from 0 to 10) in a supervised learning fashion. The data may not be clean so some preprocessing might need to be done.\n",
    "- Methods: SVM, Decision Tree/Random Forest\n",
    "- Ground Truth: given in the dataset\n",
    "- Challenges: outliers, some features may not be relevant."
   ]
  },
  {
   "cell_type": "code",
   "execution_count": null,
   "metadata": {},
   "outputs": [],
   "source": []
  }
 ],
 "metadata": {
  "kernelspec": {
   "display_name": "Python 3",
   "language": "python",
   "name": "python3"
  },
  "language_info": {
   "codemirror_mode": {
    "name": "ipython",
    "version": 3
   },
   "file_extension": ".py",
   "mimetype": "text/x-python",
   "name": "python",
   "nbconvert_exporter": "python",
   "pygments_lexer": "ipython3",
   "version": "3.7.4"
  }
 },
 "nbformat": 4,
 "nbformat_minor": 2
}

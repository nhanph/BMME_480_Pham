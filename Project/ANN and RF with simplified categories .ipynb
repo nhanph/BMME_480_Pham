{
 "cells": [
  {
   "cell_type": "code",
   "execution_count": 1,
   "metadata": {},
   "outputs": [],
   "source": [
    "import numpy as np\n",
    "import pandas as pd\n",
    "import matplotlib \n",
    "import seaborn as sns\n",
    "from matplotlib import pyplot as plt\n",
    "\n",
    "dataset=pd.read_csv('winequality-white.csv')\n",
    "pd.options.mode.chained_assignment = None "
   ]
  },
  {
   "cell_type": "code",
   "execution_count": 2,
   "metadata": {
    "scrolled": true
   },
   "outputs": [],
   "source": [
    "dataset['rating']='NaN'\n"
   ]
  },
  {
   "cell_type": "code",
   "execution_count": 3,
   "metadata": {
    "scrolled": true
   },
   "outputs": [
    {
     "data": {
      "text/plain": [
       "0       2\n",
       "1       2\n",
       "2       2\n",
       "3       2\n",
       "4       2\n",
       "       ..\n",
       "4893    2\n",
       "4894    2\n",
       "4895    2\n",
       "4896    1\n",
       "4897    2\n",
       "Name: rating, Length: 4898, dtype: int32"
      ]
     },
     "execution_count": 3,
     "metadata": {},
     "output_type": "execute_result"
    }
   ],
   "source": [
    "dataset['rating'][dataset.quality<=3]=0  # Bad wine\n",
    "dataset['rating'][dataset.quality>=7]=1 # Average Wine\n",
    "dataset['rating'][(dataset.quality>=4) & (dataset.quality<=6)]=2  # Good Wine\n",
    "dataset['rating'].astype(int)"
   ]
  },
  {
   "cell_type": "code",
   "execution_count": 4,
   "metadata": {},
   "outputs": [
    {
     "data": {
      "text/html": [
       "<div>\n",
       "<style scoped>\n",
       "    .dataframe tbody tr th:only-of-type {\n",
       "        vertical-align: middle;\n",
       "    }\n",
       "\n",
       "    .dataframe tbody tr th {\n",
       "        vertical-align: top;\n",
       "    }\n",
       "\n",
       "    .dataframe thead th {\n",
       "        text-align: right;\n",
       "    }\n",
       "</style>\n",
       "<table border=\"1\" class=\"dataframe\">\n",
       "  <thead>\n",
       "    <tr style=\"text-align: right;\">\n",
       "      <th></th>\n",
       "      <th>fixed acidity</th>\n",
       "      <th>volatile acidity</th>\n",
       "      <th>citric acid</th>\n",
       "      <th>residual sugar</th>\n",
       "      <th>chlorides</th>\n",
       "      <th>free sulfur dioxide</th>\n",
       "      <th>total sulfur dioxide</th>\n",
       "      <th>density</th>\n",
       "      <th>pH</th>\n",
       "      <th>sulphates</th>\n",
       "      <th>alcohol</th>\n",
       "      <th>quality</th>\n",
       "      <th>rating</th>\n",
       "    </tr>\n",
       "  </thead>\n",
       "  <tbody>\n",
       "    <tr>\n",
       "      <th>0</th>\n",
       "      <td>7.0</td>\n",
       "      <td>0.27</td>\n",
       "      <td>0.36</td>\n",
       "      <td>20.7</td>\n",
       "      <td>0.045</td>\n",
       "      <td>45.0</td>\n",
       "      <td>170.0</td>\n",
       "      <td>1.0010</td>\n",
       "      <td>3.00</td>\n",
       "      <td>0.45</td>\n",
       "      <td>8.8</td>\n",
       "      <td>6</td>\n",
       "      <td>2</td>\n",
       "    </tr>\n",
       "    <tr>\n",
       "      <th>1</th>\n",
       "      <td>6.3</td>\n",
       "      <td>0.30</td>\n",
       "      <td>0.34</td>\n",
       "      <td>1.6</td>\n",
       "      <td>0.049</td>\n",
       "      <td>14.0</td>\n",
       "      <td>132.0</td>\n",
       "      <td>0.9940</td>\n",
       "      <td>3.30</td>\n",
       "      <td>0.49</td>\n",
       "      <td>9.5</td>\n",
       "      <td>6</td>\n",
       "      <td>2</td>\n",
       "    </tr>\n",
       "    <tr>\n",
       "      <th>2</th>\n",
       "      <td>8.1</td>\n",
       "      <td>0.28</td>\n",
       "      <td>0.40</td>\n",
       "      <td>6.9</td>\n",
       "      <td>0.050</td>\n",
       "      <td>30.0</td>\n",
       "      <td>97.0</td>\n",
       "      <td>0.9951</td>\n",
       "      <td>3.26</td>\n",
       "      <td>0.44</td>\n",
       "      <td>10.1</td>\n",
       "      <td>6</td>\n",
       "      <td>2</td>\n",
       "    </tr>\n",
       "    <tr>\n",
       "      <th>3</th>\n",
       "      <td>7.2</td>\n",
       "      <td>0.23</td>\n",
       "      <td>0.32</td>\n",
       "      <td>8.5</td>\n",
       "      <td>0.058</td>\n",
       "      <td>47.0</td>\n",
       "      <td>186.0</td>\n",
       "      <td>0.9956</td>\n",
       "      <td>3.19</td>\n",
       "      <td>0.40</td>\n",
       "      <td>9.9</td>\n",
       "      <td>6</td>\n",
       "      <td>2</td>\n",
       "    </tr>\n",
       "    <tr>\n",
       "      <th>4</th>\n",
       "      <td>7.2</td>\n",
       "      <td>0.23</td>\n",
       "      <td>0.32</td>\n",
       "      <td>8.5</td>\n",
       "      <td>0.058</td>\n",
       "      <td>47.0</td>\n",
       "      <td>186.0</td>\n",
       "      <td>0.9956</td>\n",
       "      <td>3.19</td>\n",
       "      <td>0.40</td>\n",
       "      <td>9.9</td>\n",
       "      <td>6</td>\n",
       "      <td>2</td>\n",
       "    </tr>\n",
       "  </tbody>\n",
       "</table>\n",
       "</div>"
      ],
      "text/plain": [
       "   fixed acidity  volatile acidity  citric acid  residual sugar  chlorides  \\\n",
       "0            7.0              0.27         0.36            20.7      0.045   \n",
       "1            6.3              0.30         0.34             1.6      0.049   \n",
       "2            8.1              0.28         0.40             6.9      0.050   \n",
       "3            7.2              0.23         0.32             8.5      0.058   \n",
       "4            7.2              0.23         0.32             8.5      0.058   \n",
       "\n",
       "   free sulfur dioxide  total sulfur dioxide  density    pH  sulphates  \\\n",
       "0                 45.0                 170.0   1.0010  3.00       0.45   \n",
       "1                 14.0                 132.0   0.9940  3.30       0.49   \n",
       "2                 30.0                  97.0   0.9951  3.26       0.44   \n",
       "3                 47.0                 186.0   0.9956  3.19       0.40   \n",
       "4                 47.0                 186.0   0.9956  3.19       0.40   \n",
       "\n",
       "   alcohol  quality rating  \n",
       "0      8.8        6      2  \n",
       "1      9.5        6      2  \n",
       "2     10.1        6      2  \n",
       "3      9.9        6      2  \n",
       "4      9.9        6      2  "
      ]
     },
     "execution_count": 4,
     "metadata": {},
     "output_type": "execute_result"
    }
   ],
   "source": [
    "dataset.head()"
   ]
  },
  {
   "cell_type": "code",
   "execution_count": 5,
   "metadata": {},
   "outputs": [],
   "source": [
    "from sklearn.model_selection import train_test_split\n",
    "X_train, X_test, y_train, y_test = train_test_split(dataset.iloc[:, 1:11].values, dataset.rating.values, test_size = 0.2, random_state = 0)"
   ]
  },
  {
   "cell_type": "code",
   "execution_count": 6,
   "metadata": {},
   "outputs": [],
   "source": [
    "# Feature Scaling\n",
    "from sklearn.preprocessing import StandardScaler\n",
    "sc = StandardScaler()\n",
    "X_train = sc.fit_transform(X_train)\n",
    "X_test = sc.transform(X_test)\n",
    "y_train=y_train.astype('int')\n",
    "y_test=y_test.astype('int')\n"
   ]
  },
  {
   "cell_type": "code",
   "execution_count": 7,
   "metadata": {},
   "outputs": [
    {
     "name": "stdout",
     "output_type": "stream",
     "text": [
      "******Test set confusion matrix************\n",
      "[[  0   0   9]\n",
      " [  0  87 129]\n",
      " [  0  30 725]]\n"
     ]
    }
   ],
   "source": [
    "from sklearn.ensemble import RandomForestClassifier\n",
    "\n",
    "classifier = RandomForestClassifier(n_estimators = 10, criterion = 'entropy', max_depth=10,random_state = 0)\n",
    "classifier.fit(X_train, y_train)\n",
    "\n",
    "\n",
    "\n",
    "# Predicting the Test set results\n",
    "y_pred = classifier.predict(X_test)\n",
    "\n",
    "# Making the Confusion Matrix\n",
    "from sklearn.metrics import confusion_matrix\n",
    "cm_test = confusion_matrix(y_test, y_pred)\n",
    "print('******Test set confusion matrix************')\n",
    "print(cm_test)\n",
    "\n",
    "\n"
   ]
  },
  {
   "cell_type": "code",
   "execution_count": 8,
   "metadata": {},
   "outputs": [],
   "source": [
    "from sklearn.model_selection import GridSearchCV\n",
    "\n",
    "param_grid = [\n",
    "    {'n_estimators': [5, 10, 15,20], 'max_features': [1,2,3,4,5], 'max_depth':[5,10,15],'min_samples_split':[2,5,10],'min_samples_leaf':[1,5,10]},\n",
    "    {'bootstrap': [False], 'n_estimators': [5, 10, 20], 'max_features': [1,2,3,4,5],'max_depth':[5,10,15],'min_samples_split':[2,5,10],'min_samples_leaf':[1,5,10]}\n",
    "  ]\n",
    "\n",
    "grid_search = GridSearchCV(estimator = classifier,\n",
    "                           param_grid = param_grid,\n",
    "                           scoring = 'accuracy',\n",
    "                           cv = 10,\n",
    "                           n_jobs = -1)\n",
    "grid_search = grid_search.fit(X_train, y_train)\n",
    "best_accuracy = grid_search.best_score_\n",
    "best_parameters = grid_search.best_params_"
   ]
  },
  {
   "cell_type": "code",
   "execution_count": 9,
   "metadata": {},
   "outputs": [
    {
     "name": "stdout",
     "output_type": "stream",
     "text": [
      "0.8736600306278713\n",
      "{'bootstrap': False, 'max_depth': 15, 'max_features': 2, 'min_samples_leaf': 1, 'min_samples_split': 2, 'n_estimators': 20}\n"
     ]
    }
   ],
   "source": [
    "print( grid_search.best_score_)\n",
    "print(grid_search.best_params_)"
   ]
  },
  {
   "cell_type": "code",
   "execution_count": 10,
   "metadata": {},
   "outputs": [
    {
     "name": "stderr",
     "output_type": "stream",
     "text": [
      "C:\\ProgramData\\Anaconda3\\lib\\site-packages\\sklearn\\model_selection\\_split.py:657: Warning: The least populated class in y has only 9 members, which is too few. The minimum number of members in any class cannot be less than n_splits=10.\n",
      "  % (min_groups, self.n_splits)), Warning)\n"
     ]
    },
    {
     "name": "stdout",
     "output_type": "stream",
     "text": [
      "Training accuracy mean 0.8736623255207794\n",
      "Training accuracy std 0.007378414045959058\n",
      "Testing accuracy mean 0.8102950196792242\n",
      "Testing accuracy std 0.028612968470409027\n"
     ]
    }
   ],
   "source": [
    "from sklearn.model_selection import cross_val_score\n",
    "accuracies_train = cross_val_score(estimator = grid_search.best_estimator_, X = X_train, y = y_train, cv = 10)\n",
    "accuracies_test = cross_val_score(estimator = grid_search.best_estimator_, X = X_test, y = y_test, cv = 10)\n",
    "print('Training accuracy mean',accuracies_train.mean())\n",
    "print('Training accuracy std',accuracies_train.std())\n",
    "print('Testing accuracy mean',accuracies_test.mean())\n",
    "print('Testing accuracy std',accuracies_test.std())"
   ]
  },
  {
   "cell_type": "code",
   "execution_count": 9,
   "metadata": {},
   "outputs": [],
   "source": [
    "import tensorflow as tf\n",
    "from tensorflow import keras"
   ]
  },
  {
   "cell_type": "code",
   "execution_count": 10,
   "metadata": {},
   "outputs": [],
   "source": [
    "model = keras.models.Sequential()\n",
    "model.add(keras.layers.Dense(20, activation=\"relu\"))\n",
    "model.add(keras.layers.Dense(20, activation=\"relu\"))\n",
    "model.add(keras.layers.Dense(10, activation=\"softmax\"))"
   ]
  },
  {
   "cell_type": "code",
   "execution_count": 11,
   "metadata": {},
   "outputs": [],
   "source": [
    "model.compile( loss=\"sparse_categorical_crossentropy\",\n",
    "              optimizer=\"sgd\",\n",
    "              metrics=[\"accuracy\"])"
   ]
  },
  {
   "cell_type": "code",
   "execution_count": 12,
   "metadata": {},
   "outputs": [],
   "source": [
    "X_valid=X_train[:500]\n",
    "y_valid=y_train[:500]"
   ]
  },
  {
   "cell_type": "code",
   "execution_count": 13,
   "metadata": {},
   "outputs": [],
   "source": [
    "# Feature Scaling\n",
    "from sklearn.preprocessing import StandardScaler\n",
    "sc = StandardScaler()\n",
    "X_train = sc.fit_transform(X_train)\n",
    "X_test = sc.transform(X_test)"
   ]
  },
  {
   "cell_type": "code",
   "execution_count": 14,
   "metadata": {},
   "outputs": [
    {
     "name": "stdout",
     "output_type": "stream",
     "text": [
      "Train on 3918 samples, validate on 500 samples\n",
      "Epoch 1/100\n",
      "3918/3918 [==============================] - 1s 262us/sample - loss: 1.4429 - accuracy: 0.6192 - val_loss: 0.8484 - val_accuracy: 0.8040\n",
      "Epoch 2/100\n",
      "3918/3918 [==============================] - 0s 44us/sample - loss: 0.7498 - accuracy: 0.7818 - val_loss: 0.5863 - val_accuracy: 0.8040\n",
      "Epoch 3/100\n",
      "3918/3918 [==============================] - 0s 47us/sample - loss: 0.5812 - accuracy: 0.7820 - val_loss: 0.4996 - val_accuracy: 0.8040\n",
      "Epoch 4/100\n",
      "3918/3918 [==============================] - 0s 42us/sample - loss: 0.5211 - accuracy: 0.7836 - val_loss: 0.4655 - val_accuracy: 0.7820\n",
      "Epoch 5/100\n",
      "3918/3918 [==============================] - 0s 51us/sample - loss: 0.4932 - accuracy: 0.7879 - val_loss: 0.4528 - val_accuracy: 0.7840\n",
      "Epoch 6/100\n",
      "3918/3918 [==============================] - 0s 44us/sample - loss: 0.4772 - accuracy: 0.7917 - val_loss: 0.4378 - val_accuracy: 0.7860\n",
      "Epoch 7/100\n",
      "3918/3918 [==============================] - 0s 45us/sample - loss: 0.4671 - accuracy: 0.7907 - val_loss: 0.4329 - val_accuracy: 0.7860\n",
      "Epoch 8/100\n",
      "3918/3918 [==============================] - 0s 46us/sample - loss: 0.4596 - accuracy: 0.7971 - val_loss: 0.4275 - val_accuracy: 0.7900\n",
      "Epoch 9/100\n",
      "3918/3918 [==============================] - 0s 45us/sample - loss: 0.4537 - accuracy: 0.7968 - val_loss: 0.4254 - val_accuracy: 0.7860\n",
      "Epoch 10/100\n",
      "3918/3918 [==============================] - 0s 45us/sample - loss: 0.4490 - accuracy: 0.7996 - val_loss: 0.4221 - val_accuracy: 0.7880\n",
      "Epoch 11/100\n",
      "3918/3918 [==============================] - 0s 47us/sample - loss: 0.4455 - accuracy: 0.8002 - val_loss: 0.4213 - val_accuracy: 0.7920\n",
      "Epoch 12/100\n",
      "3918/3918 [==============================] - 0s 43us/sample - loss: 0.4424 - accuracy: 0.8047 - val_loss: 0.4179 - val_accuracy: 0.8060\n",
      "Epoch 13/100\n",
      "3918/3918 [==============================] - 0s 50us/sample - loss: 0.4397 - accuracy: 0.8040 - val_loss: 0.4179 - val_accuracy: 0.7960\n",
      "Epoch 14/100\n",
      "3918/3918 [==============================] - 0s 43us/sample - loss: 0.4367 - accuracy: 0.8070 - val_loss: 0.4156 - val_accuracy: 0.8060\n",
      "Epoch 15/100\n",
      "3918/3918 [==============================] - 0s 47us/sample - loss: 0.4346 - accuracy: 0.8065 - val_loss: 0.4142 - val_accuracy: 0.8080\n",
      "Epoch 16/100\n",
      "3918/3918 [==============================] - 0s 46us/sample - loss: 0.4320 - accuracy: 0.8093 - val_loss: 0.4150 - val_accuracy: 0.8020\n",
      "Epoch 17/100\n",
      "3918/3918 [==============================] - 0s 47us/sample - loss: 0.4295 - accuracy: 0.8091 - val_loss: 0.4203 - val_accuracy: 0.8000\n",
      "Epoch 18/100\n",
      "3918/3918 [==============================] - 0s 45us/sample - loss: 0.4277 - accuracy: 0.8076 - val_loss: 0.4127 - val_accuracy: 0.8000\n",
      "Epoch 19/100\n",
      "3918/3918 [==============================] - 0s 46us/sample - loss: 0.4254 - accuracy: 0.8099 - val_loss: 0.4147 - val_accuracy: 0.8040\n",
      "Epoch 20/100\n",
      "3918/3918 [==============================] - 0s 45us/sample - loss: 0.4240 - accuracy: 0.8116 - val_loss: 0.4103 - val_accuracy: 0.8080\n",
      "Epoch 21/100\n",
      "3918/3918 [==============================] - 0s 45us/sample - loss: 0.4215 - accuracy: 0.8121 - val_loss: 0.4086 - val_accuracy: 0.8160\n",
      "Epoch 22/100\n",
      "3918/3918 [==============================] - 0s 45us/sample - loss: 0.4205 - accuracy: 0.8119 - val_loss: 0.4102 - val_accuracy: 0.8040\n",
      "Epoch 23/100\n",
      "3918/3918 [==============================] - 0s 45us/sample - loss: 0.4183 - accuracy: 0.8134 - val_loss: 0.4067 - val_accuracy: 0.8140\n",
      "Epoch 24/100\n",
      "3918/3918 [==============================] - 0s 46us/sample - loss: 0.4171 - accuracy: 0.8150 - val_loss: 0.4092 - val_accuracy: 0.8040\n",
      "Epoch 25/100\n",
      "3918/3918 [==============================] - 0s 47us/sample - loss: 0.4154 - accuracy: 0.8157 - val_loss: 0.4130 - val_accuracy: 0.7980\n",
      "Epoch 26/100\n",
      "3918/3918 [==============================] - 0s 45us/sample - loss: 0.4141 - accuracy: 0.8170 - val_loss: 0.4056 - val_accuracy: 0.8160\n",
      "Epoch 27/100\n",
      "3918/3918 [==============================] - 0s 45us/sample - loss: 0.4128 - accuracy: 0.8119 - val_loss: 0.4079 - val_accuracy: 0.8000\n",
      "Epoch 28/100\n",
      "3918/3918 [==============================] - 0s 43us/sample - loss: 0.4123 - accuracy: 0.8129 - val_loss: 0.4047 - val_accuracy: 0.8100\n",
      "Epoch 29/100\n",
      "3918/3918 [==============================] - 0s 43us/sample - loss: 0.4110 - accuracy: 0.8144 - val_loss: 0.4039 - val_accuracy: 0.8160\n",
      "Epoch 30/100\n",
      "3918/3918 [==============================] - 0s 49us/sample - loss: 0.4094 - accuracy: 0.8155 - val_loss: 0.4056 - val_accuracy: 0.8020\n",
      "Epoch 31/100\n",
      "3918/3918 [==============================] - 0s 44us/sample - loss: 0.4086 - accuracy: 0.8142 - val_loss: 0.4024 - val_accuracy: 0.8180\n",
      "Epoch 32/100\n",
      "3918/3918 [==============================] - 0s 47us/sample - loss: 0.4073 - accuracy: 0.8170 - val_loss: 0.4011 - val_accuracy: 0.8200\n",
      "Epoch 33/100\n",
      "3918/3918 [==============================] - 0s 43us/sample - loss: 0.4054 - accuracy: 0.8173 - val_loss: 0.4006 - val_accuracy: 0.8280\n",
      "Epoch 34/100\n",
      "3918/3918 [==============================] - 0s 47us/sample - loss: 0.4054 - accuracy: 0.8173 - val_loss: 0.4029 - val_accuracy: 0.8120\n",
      "Epoch 35/100\n",
      "3918/3918 [==============================] - 0s 47us/sample - loss: 0.4044 - accuracy: 0.8201 - val_loss: 0.4028 - val_accuracy: 0.8020\n",
      "Epoch 36/100\n",
      "3918/3918 [==============================] - 0s 47us/sample - loss: 0.4035 - accuracy: 0.8170 - val_loss: 0.3993 - val_accuracy: 0.8200\n",
      "Epoch 37/100\n",
      "3918/3918 [==============================] - 0s 46us/sample - loss: 0.4026 - accuracy: 0.8160 - val_loss: 0.3989 - val_accuracy: 0.8180\n",
      "Epoch 38/100\n",
      "3918/3918 [==============================] - 0s 54us/sample - loss: 0.4019 - accuracy: 0.8180 - val_loss: 0.3986 - val_accuracy: 0.8180\n",
      "Epoch 39/100\n",
      "3918/3918 [==============================] - 0s 42us/sample - loss: 0.4009 - accuracy: 0.8196 - val_loss: 0.3983 - val_accuracy: 0.8200\n",
      "Epoch 40/100\n",
      "3918/3918 [==============================] - 0s 43us/sample - loss: 0.3999 - accuracy: 0.8203 - val_loss: 0.4029 - val_accuracy: 0.8000\n",
      "Epoch 41/100\n",
      "3918/3918 [==============================] - 0s 48us/sample - loss: 0.3993 - accuracy: 0.8231 - val_loss: 0.3992 - val_accuracy: 0.8120\n",
      "Epoch 42/100\n",
      "3918/3918 [==============================] - 0s 52us/sample - loss: 0.3988 - accuracy: 0.8201 - val_loss: 0.3973 - val_accuracy: 0.8220\n",
      "Epoch 43/100\n",
      "3918/3918 [==============================] - 0s 43us/sample - loss: 0.3978 - accuracy: 0.8208 - val_loss: 0.3988 - val_accuracy: 0.8100\n",
      "Epoch 44/100\n",
      "3918/3918 [==============================] - 0s 44us/sample - loss: 0.3975 - accuracy: 0.8211 - val_loss: 0.4013 - val_accuracy: 0.7980\n",
      "Epoch 45/100\n",
      "3918/3918 [==============================] - 0s 43us/sample - loss: 0.3966 - accuracy: 0.8178 - val_loss: 0.3966 - val_accuracy: 0.8120\n",
      "Epoch 46/100\n",
      "3918/3918 [==============================] - 0s 47us/sample - loss: 0.3958 - accuracy: 0.8236 - val_loss: 0.3970 - val_accuracy: 0.8100\n",
      "Epoch 47/100\n",
      "3918/3918 [==============================] - 0s 42us/sample - loss: 0.3948 - accuracy: 0.8224 - val_loss: 0.3966 - val_accuracy: 0.8120\n",
      "Epoch 48/100\n",
      "3918/3918 [==============================] - 0s 48us/sample - loss: 0.3946 - accuracy: 0.8236 - val_loss: 0.3953 - val_accuracy: 0.8240\n",
      "Epoch 49/100\n",
      "3918/3918 [==============================] - 0s 45us/sample - loss: 0.3938 - accuracy: 0.8234 - val_loss: 0.3981 - val_accuracy: 0.8020\n",
      "Epoch 50/100\n",
      "3918/3918 [==============================] - 0s 45us/sample - loss: 0.3937 - accuracy: 0.8208 - val_loss: 0.3949 - val_accuracy: 0.8140\n",
      "Epoch 51/100\n",
      "3918/3918 [==============================] - 0s 44us/sample - loss: 0.3929 - accuracy: 0.8224 - val_loss: 0.3966 - val_accuracy: 0.8020\n",
      "Epoch 52/100\n",
      "3918/3918 [==============================] - 0s 44us/sample - loss: 0.3921 - accuracy: 0.8249 - val_loss: 0.3943 - val_accuracy: 0.8280\n",
      "Epoch 53/100\n",
      "3918/3918 [==============================] - 0s 45us/sample - loss: 0.3918 - accuracy: 0.8234 - val_loss: 0.3939 - val_accuracy: 0.8300\n",
      "Epoch 54/100\n",
      "3918/3918 [==============================] - 0s 45us/sample - loss: 0.3912 - accuracy: 0.8252 - val_loss: 0.3937 - val_accuracy: 0.8140\n",
      "Epoch 55/100\n",
      "3918/3918 [==============================] - 0s 44us/sample - loss: 0.3906 - accuracy: 0.8231 - val_loss: 0.3951 - val_accuracy: 0.8120\n"
     ]
    },
    {
     "name": "stdout",
     "output_type": "stream",
     "text": [
      "Epoch 56/100\n",
      "3918/3918 [==============================] - 0s 49us/sample - loss: 0.3896 - accuracy: 0.8244 - val_loss: 0.3946 - val_accuracy: 0.8140\n",
      "Epoch 57/100\n",
      "3918/3918 [==============================] - 0s 43us/sample - loss: 0.3895 - accuracy: 0.8229 - val_loss: 0.3925 - val_accuracy: 0.8280\n",
      "Epoch 58/100\n",
      "3918/3918 [==============================] - 0s 44us/sample - loss: 0.3893 - accuracy: 0.8234 - val_loss: 0.3921 - val_accuracy: 0.8160\n",
      "Epoch 59/100\n",
      "3918/3918 [==============================] - 0s 43us/sample - loss: 0.3883 - accuracy: 0.8249 - val_loss: 0.3910 - val_accuracy: 0.8260\n",
      "Epoch 60/100\n",
      "3918/3918 [==============================] - 0s 43us/sample - loss: 0.3880 - accuracy: 0.8262 - val_loss: 0.3909 - val_accuracy: 0.8240\n",
      "Epoch 61/100\n",
      "3918/3918 [==============================] - 0s 43us/sample - loss: 0.3874 - accuracy: 0.8229 - val_loss: 0.3939 - val_accuracy: 0.8040\n",
      "Epoch 62/100\n",
      "3918/3918 [==============================] - 0s 44us/sample - loss: 0.3862 - accuracy: 0.8231 - val_loss: 0.3913 - val_accuracy: 0.8140\n",
      "Epoch 63/100\n",
      "3918/3918 [==============================] - 0s 44us/sample - loss: 0.3859 - accuracy: 0.8262 - val_loss: 0.3902 - val_accuracy: 0.8260\n",
      "Epoch 64/100\n",
      "3918/3918 [==============================] - 0s 44us/sample - loss: 0.3866 - accuracy: 0.8241 - val_loss: 0.3906 - val_accuracy: 0.8120\n",
      "Epoch 65/100\n",
      "3918/3918 [==============================] - 0s 44us/sample - loss: 0.3853 - accuracy: 0.8267 - val_loss: 0.3929 - val_accuracy: 0.8060\n",
      "Epoch 66/100\n",
      "3918/3918 [==============================] - 0s 44us/sample - loss: 0.3850 - accuracy: 0.8285 - val_loss: 0.3900 - val_accuracy: 0.8180\n",
      "Epoch 67/100\n",
      "3918/3918 [==============================] - 0s 41us/sample - loss: 0.3846 - accuracy: 0.8229 - val_loss: 0.3892 - val_accuracy: 0.8220\n",
      "Epoch 68/100\n",
      "3918/3918 [==============================] - 0s 47us/sample - loss: 0.3839 - accuracy: 0.8267 - val_loss: 0.3910 - val_accuracy: 0.8080\n",
      "Epoch 69/100\n",
      "3918/3918 [==============================] - 0s 42us/sample - loss: 0.3834 - accuracy: 0.8249 - val_loss: 0.3911 - val_accuracy: 0.8080\n",
      "Epoch 70/100\n",
      "3918/3918 [==============================] - 0s 43us/sample - loss: 0.3834 - accuracy: 0.8244 - val_loss: 0.3917 - val_accuracy: 0.8080\n",
      "Epoch 71/100\n",
      "3918/3918 [==============================] - 0s 47us/sample - loss: 0.3822 - accuracy: 0.8267 - val_loss: 0.3883 - val_accuracy: 0.8160\n",
      "Epoch 72/100\n",
      "3918/3918 [==============================] - 0s 44us/sample - loss: 0.3824 - accuracy: 0.8252 - val_loss: 0.3898 - val_accuracy: 0.8100\n",
      "Epoch 73/100\n",
      "3918/3918 [==============================] - 0s 47us/sample - loss: 0.3823 - accuracy: 0.8270 - val_loss: 0.3874 - val_accuracy: 0.8280\n",
      "Epoch 74/100\n",
      "3918/3918 [==============================] - 0s 45us/sample - loss: 0.3815 - accuracy: 0.8254 - val_loss: 0.3871 - val_accuracy: 0.8240\n",
      "Epoch 75/100\n",
      "3918/3918 [==============================] - 0s 44us/sample - loss: 0.3809 - accuracy: 0.8252 - val_loss: 0.3871 - val_accuracy: 0.8120\n",
      "Epoch 76/100\n",
      "3918/3918 [==============================] - 0s 53us/sample - loss: 0.3809 - accuracy: 0.8254 - val_loss: 0.3889 - val_accuracy: 0.8080\n",
      "Epoch 77/100\n",
      "3918/3918 [==============================] - 0s 47us/sample - loss: 0.3798 - accuracy: 0.8280 - val_loss: 0.3862 - val_accuracy: 0.8200\n",
      "Epoch 78/100\n",
      "3918/3918 [==============================] - 0s 45us/sample - loss: 0.3796 - accuracy: 0.8262 - val_loss: 0.3895 - val_accuracy: 0.8100\n",
      "Epoch 79/100\n",
      "3918/3918 [==============================] - 0s 45us/sample - loss: 0.3798 - accuracy: 0.8308 - val_loss: 0.3868 - val_accuracy: 0.8080\n",
      "Epoch 80/100\n",
      "3918/3918 [==============================] - 0s 44us/sample - loss: 0.3790 - accuracy: 0.8272 - val_loss: 0.3856 - val_accuracy: 0.8180\n",
      "Epoch 81/100\n",
      "3918/3918 [==============================] - 0s 43us/sample - loss: 0.3787 - accuracy: 0.8277 - val_loss: 0.3852 - val_accuracy: 0.8180\n",
      "Epoch 82/100\n",
      "3918/3918 [==============================] - 0s 45us/sample - loss: 0.3779 - accuracy: 0.8280 - val_loss: 0.3844 - val_accuracy: 0.8260\n",
      "Epoch 83/100\n",
      "3918/3918 [==============================] - 0s 45us/sample - loss: 0.3782 - accuracy: 0.8280 - val_loss: 0.3876 - val_accuracy: 0.8120\n",
      "Epoch 84/100\n",
      "3918/3918 [==============================] - 0s 44us/sample - loss: 0.3780 - accuracy: 0.8257 - val_loss: 0.3859 - val_accuracy: 0.8120\n",
      "Epoch 85/100\n",
      "3918/3918 [==============================] - 0s 47us/sample - loss: 0.3774 - accuracy: 0.8262 - val_loss: 0.3864 - val_accuracy: 0.8120\n",
      "Epoch 86/100\n",
      "3918/3918 [==============================] - 0s 45us/sample - loss: 0.3773 - accuracy: 0.8280 - val_loss: 0.3871 - val_accuracy: 0.8060\n",
      "Epoch 87/100\n",
      "3918/3918 [==============================] - 0s 45us/sample - loss: 0.3765 - accuracy: 0.8282 - val_loss: 0.3837 - val_accuracy: 0.8140\n",
      "Epoch 88/100\n",
      "3918/3918 [==============================] - 0s 44us/sample - loss: 0.3755 - accuracy: 0.8282 - val_loss: 0.3813 - val_accuracy: 0.8300\n",
      "Epoch 89/100\n",
      "3918/3918 [==============================] - 0s 51us/sample - loss: 0.3762 - accuracy: 0.8292 - val_loss: 0.3812 - val_accuracy: 0.8220\n",
      "Epoch 90/100\n",
      "3918/3918 [==============================] - 0s 53us/sample - loss: 0.3756 - accuracy: 0.8290 - val_loss: 0.3814 - val_accuracy: 0.8280\n",
      "Epoch 91/100\n",
      "3918/3918 [==============================] - 0s 51us/sample - loss: 0.3750 - accuracy: 0.8303 - val_loss: 0.3841 - val_accuracy: 0.8140\n",
      "Epoch 92/100\n",
      "3918/3918 [==============================] - 0s 47us/sample - loss: 0.3751 - accuracy: 0.8270 - val_loss: 0.3835 - val_accuracy: 0.8160\n",
      "Epoch 93/100\n",
      "3918/3918 [==============================] - 0s 43us/sample - loss: 0.3747 - accuracy: 0.8295 - val_loss: 0.3810 - val_accuracy: 0.8200\n",
      "Epoch 94/100\n",
      "3918/3918 [==============================] - 0s 43us/sample - loss: 0.3739 - accuracy: 0.8298 - val_loss: 0.3813 - val_accuracy: 0.8320\n",
      "Epoch 95/100\n",
      "3918/3918 [==============================] - 0s 45us/sample - loss: 0.3743 - accuracy: 0.8241 - val_loss: 0.3811 - val_accuracy: 0.8160\n",
      "Epoch 96/100\n",
      "3918/3918 [==============================] - 0s 45us/sample - loss: 0.3730 - accuracy: 0.8310 - val_loss: 0.3958 - val_accuracy: 0.8000\n",
      "Epoch 97/100\n",
      "3918/3918 [==============================] - 0s 45us/sample - loss: 0.3738 - accuracy: 0.8308 - val_loss: 0.3788 - val_accuracy: 0.8220\n",
      "Epoch 98/100\n",
      "3918/3918 [==============================] - 0s 45us/sample - loss: 0.3730 - accuracy: 0.8310 - val_loss: 0.3784 - val_accuracy: 0.8220\n",
      "Epoch 99/100\n",
      "3918/3918 [==============================] - 0s 46us/sample - loss: 0.3727 - accuracy: 0.8267 - val_loss: 0.3778 - val_accuracy: 0.8200\n",
      "Epoch 100/100\n",
      "3918/3918 [==============================] - 0s 45us/sample - loss: 0.3720 - accuracy: 0.8305 - val_loss: 0.3800 - val_accuracy: 0.8180\n"
     ]
    }
   ],
   "source": [
    "history = model.fit(X_train, y_train, epochs=100,validation_data=(X_valid, y_valid)) "
   ]
  },
  {
   "cell_type": "code",
   "execution_count": null,
   "metadata": {},
   "outputs": [],
   "source": []
  }
 ],
 "metadata": {
  "kernelspec": {
   "display_name": "Python 3",
   "language": "python",
   "name": "python3"
  },
  "language_info": {
   "codemirror_mode": {
    "name": "ipython",
    "version": 3
   },
   "file_extension": ".py",
   "mimetype": "text/x-python",
   "name": "python",
   "nbconvert_exporter": "python",
   "pygments_lexer": "ipython3",
   "version": "3.7.3"
  }
 },
 "nbformat": 4,
 "nbformat_minor": 2
}

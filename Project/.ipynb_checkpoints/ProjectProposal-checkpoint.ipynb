{
 "cells": [
  {
   "cell_type": "markdown",
   "metadata": {},
   "source": [
    "# Project Proposal\n",
    "\n",
    "\n",
    "## 1. Stock Market Prediction\n",
    "\n",
    "- Goal/How to proceed:\n",
    "\n",
    "- Type of problem: Regression\n",
    "- Dataset: (from Kaggle)\n",
    "- Size:\n",
    "- Features:\n",
    "- Methods:\n",
    "- Ground Truth:\n",
    "\n",
    "- Challenges:\n",
    "\n",
    "## 2. Breast Cancer Classification\n",
    "\n",
    "- Type of problem: Classification\n",
    "- Dataset: (from Kaggle)\n",
    "- Size:\n",
    "- Features:\n",
    "- Methods:\n",
    "- Ground Truth:\n",
    "- Goal/How to proceed:\n",
    "- Challenges:\n",
    "\n",
    "## 3. Car Evaluation\n",
    "\n",
    "- Type of problem: Classification\n",
    "- Dataset: (from UCI repository)\n",
    "- Size:\n",
    "- Features:\n",
    "- Methods:\n",
    "- Ground Truth:\n",
    "- Goal/How to proceed:\n",
    "- Challenges:"
   ]
  },
  {
   "cell_type": "code",
   "execution_count": null,
   "metadata": {},
   "outputs": [],
   "source": []
  }
 ],
 "metadata": {
  "kernelspec": {
   "display_name": "Python 3",
   "language": "python",
   "name": "python3"
  },
  "language_info": {
   "codemirror_mode": {
    "name": "ipython",
    "version": 3
   },
   "file_extension": ".py",
   "mimetype": "text/x-python",
   "name": "python",
   "nbconvert_exporter": "python",
   "pygments_lexer": "ipython3",
   "version": "3.7.4"
  }
 },
 "nbformat": 4,
 "nbformat_minor": 2
}

{
 "cells": [
  {
   "cell_type": "markdown",
   "metadata": {
    "slideshow": {
     "slide_type": "slide"
    }
   },
   "source": [
    "# BMME890 - Fall 2019\n",
    "\n",
    "## Wine Quality Project\n",
    "\n",
    "Group: Nhan Pham, Khoi Huynh, Frank Wang, and Jiayi Xu"
   ]
  },
  {
   "cell_type": "markdown",
   "metadata": {
    "slideshow": {
     "slide_type": "slide"
    }
   },
   "source": [
    "## Problem Overview\n",
    "\n",
    "- Two datasets of red and white wine.\n",
    "- Predict the quality of the red and white wine (score from 0 to 10)"
   ]
  },
  {
   "cell_type": "markdown",
   "metadata": {
    "slideshow": {
     "slide_type": "slide"
    }
   },
   "source": [
    "## Dataset\n",
    "\n",
    "- From UCI repository: https://archive.ics.uci.edu/ml/datasets/Wine+Quality\n",
    "- Size: 4898 samples, 12 features\n",
    "- Features: \n",
    "    - `fixed acidity`\n",
    "    - `volatile acidity`\n",
    "    - `citric acid`\n",
    "    - `residual sugar`\n",
    "    - `chlorides`\n",
    "    - `free sulfur dioxide`\n",
    "    - `total sulfur dioxide`\n",
    "    - `density`\n",
    "    - `pH`\n",
    "    - `sulphates`\n",
    "    - `alcohol`"
   ]
  },
  {
   "cell_type": "markdown",
   "metadata": {
    "slideshow": {
     "slide_type": "slide"
    }
   },
   "source": [
    "## Approach\n",
    "\n",
    "The problem can be viewed in 2 ways:\n",
    "- Classification\n",
    "- Regression"
   ]
  },
  {
   "cell_type": "markdown",
   "metadata": {
    "slideshow": {
     "slide_type": "slide"
    }
   },
   "source": [
    "### Classification\n",
    "\n",
    "- Multilabel classification problem\n",
    "- Labels: $0 - 10$\n",
    "- Methods: random forest, SVM"
   ]
  },
  {
   "cell_type": "markdown",
   "metadata": {
    "slideshow": {
     "slide_type": "slide"
    }
   },
   "source": [
    "### Regression\n",
    "\n",
    "- Perform usual regression techniques\n",
    "- Round the output to its nearest integer\n",
    "- Methods: linear regression, ridge regression, lasso"
   ]
  }
 ],
 "metadata": {
  "celltoolbar": "Slideshow",
  "kernelspec": {
   "display_name": "Python 3",
   "language": "python",
   "name": "python3"
  },
  "language_info": {
   "codemirror_mode": {
    "name": "ipython",
    "version": 3
   },
   "file_extension": ".py",
   "mimetype": "text/x-python",
   "name": "python",
   "nbconvert_exporter": "python",
   "pygments_lexer": "ipython3",
   "version": "3.6.8"
  }
 },
 "nbformat": 4,
 "nbformat_minor": 2
}
